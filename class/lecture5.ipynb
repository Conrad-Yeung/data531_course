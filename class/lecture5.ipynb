{
 "cells": [
  {
   "cell_type": "markdown",
   "metadata": {
    "slideshow": {
     "slide_type": "slide"
    }
   },
   "source": [
    "# Lecture 5: Introduction to R\n"
   ]
  },
  {
   "cell_type": "markdown",
   "metadata": {},
   "source": [
    "## Note from Firas\n",
    "\n",
    "Our series of R lectures will be presented by Dr. Tiffany Timbers, the other option co-director of the Vancouver MDS program.\n",
    "\n",
    "Her lecture videos are not yet posted on YouTube, but I've got them locally so that's how we'll watch them."
   ]
  },
  {
   "cell_type": "markdown",
   "metadata": {
    "slideshow": {
     "slide_type": "slide"
    }
   },
   "source": [
    "### High level goal for part II of this course:\n",
    "\n",
    " Learn the R'isms of the R programming language."
   ]
  },
  {
   "cell_type": "markdown",
   "metadata": {
    "slideshow": {
     "slide_type": "slide"
    }
   },
   "source": [
    "### First, a bit of history about me\n",
    "\n",
    "- Ph.D. in Neuroscience (2012)\n",
    "- Started using R in ~ 2010 because I needed to do \"complex\" statistics\n",
    "- Other programming languages I have used:\n",
    "  - Turing\n",
    "  - Java\n",
    "  - Matlab\n",
    "  - Python (only other language that I still currently use and remember)"
   ]
  },
  {
   "cell_type": "markdown",
   "metadata": {
    "slideshow": {
     "slide_type": "slide"
    }
   },
   "source": [
    "Oh, and I like gifs, so you might see some in my lecture notes...\n",
    "\n",
    "<img src=\"https://media.giphy.com/media/3PAL5bChWnak0WJ32x/giphy.gif\" width=400>"
   ]
  },
  {
   "cell_type": "markdown",
   "metadata": {
    "slideshow": {
     "slide_type": "slide"
    }
   },
   "source": [
    "## Now, a bit of history about R"
   ]
  },
  {
   "cell_type": "markdown",
   "metadata": {
    "slideshow": {
     "slide_type": "fragment"
    }
   },
   "source": [
    "- An implementation of the S programming language (created at Bell labs in 1976)"
   ]
  },
  {
   "cell_type": "markdown",
   "metadata": {
    "slideshow": {
     "slide_type": "fragment"
    }
   },
   "source": [
    "- written in C, Fortran, and R itself"
   ]
  },
  {
   "cell_type": "markdown",
   "metadata": {
    "slideshow": {
     "slide_type": "fragment"
    }
   },
   "source": [
    "- R was created by Ross Ihaka and Robert Gentleman (Statisticians from NZ)"
   ]
  },
  {
   "cell_type": "markdown",
   "metadata": {
    "slideshow": {
     "slide_type": "fragment"
    }
   },
   "source": [
    "- R is named partly after the authors and partly as a play on the name of S"
   ]
  },
  {
   "cell_type": "markdown",
   "metadata": {
    "slideshow": {
     "slide_type": "slide"
    }
   },
   "source": [
    "- First stable beta version in 2000"
   ]
  },
  {
   "cell_type": "markdown",
   "metadata": {
    "slideshow": {
     "slide_type": "fragment"
    }
   },
   "source": [
    "<img src=\"http://revolution-computing.typepad.com/.a/6a010534b1db25970b01b8d2594d25970c-pi\" width=\"600\">\n",
    "\n",
    "*Source: https://blog.revolutionanalytics.com/2016/03/16-years-of-r-history.html*"
   ]
  },
  {
   "cell_type": "markdown",
   "metadata": {
    "slideshow": {
     "slide_type": "fragment"
    }
   },
   "source": [
    "R currently has more than 15,000 additional packages (as of September 2018)!"
   ]
  },
  {
   "cell_type": "markdown",
   "metadata": {
    "slideshow": {
     "slide_type": "slide"
    }
   },
   "source": [
    "### So, who's used R before?"
   ]
  },
  {
   "cell_type": "markdown",
   "metadata": {
    "slideshow": {
     "slide_type": "slide"
    }
   },
   "source": [
    "### Let's start with a vignette"
   ]
  },
  {
   "cell_type": "code",
   "execution_count": 1,
   "metadata": {
    "slideshow": {
     "slide_type": "slide"
    }
   },
   "outputs": [
    {
     "name": "stderr",
     "output_type": "stream",
     "text": [
      "── \u001b[1mAttaching packages\u001b[22m ─────────────────────────────────────── tidyverse 1.2.1 ──\n",
      "\u001b[32m✔\u001b[39m \u001b[34mggplot2\u001b[39m 3.2.1     \u001b[32m✔\u001b[39m \u001b[34mpurrr  \u001b[39m 0.3.2\n",
      "\u001b[32m✔\u001b[39m \u001b[34mtibble \u001b[39m 2.1.3     \u001b[32m✔\u001b[39m \u001b[34mdplyr  \u001b[39m 0.8.3\n",
      "\u001b[32m✔\u001b[39m \u001b[34mtidyr  \u001b[39m 0.8.3     \u001b[32m✔\u001b[39m \u001b[34mstringr\u001b[39m 1.4.0\n",
      "\u001b[32m✔\u001b[39m \u001b[34mreadr  \u001b[39m 1.3.1     \u001b[32m✔\u001b[39m \u001b[34mforcats\u001b[39m 0.4.0\n",
      "── \u001b[1mConflicts\u001b[22m ────────────────────────────────────────── tidyverse_conflicts() ──\n",
      "\u001b[31m✖\u001b[39m \u001b[34mdplyr\u001b[39m::\u001b[32mfilter()\u001b[39m masks \u001b[34mstats\u001b[39m::filter()\n",
      "\u001b[31m✖\u001b[39m \u001b[34mdplyr\u001b[39m::\u001b[32mlag()\u001b[39m    masks \u001b[34mstats\u001b[39m::lag()\n",
      "Parsed with column specification:\n",
      "cols(\n",
      "  state = \u001b[31mcol_character()\u001b[39m,\n",
      "  med_income = \u001b[32mcol_double()\u001b[39m,\n",
      "  med_prop_val = \u001b[32mcol_double()\u001b[39m,\n",
      "  population = \u001b[32mcol_double()\u001b[39m,\n",
      "  mean_commute_minutes = \u001b[32mcol_double()\u001b[39m\n",
      ")\n"
     ]
    },
    {
     "data": {
      "text/html": [
       "<table>\n",
       "<caption>A tibble: 6 × 5</caption>\n",
       "<thead>\n",
       "\t<tr><th scope=col>state</th><th scope=col>med_income</th><th scope=col>med_prop_val</th><th scope=col>population</th><th scope=col>mean_commute_minutes</th></tr>\n",
       "\t<tr><th scope=col>&lt;chr&gt;</th><th scope=col>&lt;dbl&gt;</th><th scope=col>&lt;dbl&gt;</th><th scope=col>&lt;dbl&gt;</th><th scope=col>&lt;dbl&gt;</th></tr>\n",
       "</thead>\n",
       "<tbody>\n",
       "\t<tr><td>AK</td><td>64222</td><td>197300</td><td>  733375</td><td>10.46830</td></tr>\n",
       "\t<tr><td>AL</td><td>36924</td><td> 94800</td><td> 4830620</td><td>25.30991</td></tr>\n",
       "\t<tr><td>AR</td><td>35833</td><td> 83300</td><td> 2958208</td><td>22.40109</td></tr>\n",
       "\t<tr><td>AZ</td><td>44748</td><td>128700</td><td> 6641928</td><td>20.58786</td></tr>\n",
       "\t<tr><td>CA</td><td>53075</td><td>252100</td><td>38421464</td><td>23.38085</td></tr>\n",
       "\t<tr><td>CO</td><td>48098</td><td>198900</td><td> 5278906</td><td>19.50792</td></tr>\n",
       "</tbody>\n",
       "</table>\n"
      ],
      "text/latex": [
       "A tibble: 6 × 5\n",
       "\\begin{tabular}{r|lllll}\n",
       " state & med\\_income & med\\_prop\\_val & population & mean\\_commute\\_minutes\\\\\n",
       " <chr> & <dbl> & <dbl> & <dbl> & <dbl>\\\\\n",
       "\\hline\n",
       "\t AK & 64222 & 197300 &   733375 & 10.46830\\\\\n",
       "\t AL & 36924 &  94800 &  4830620 & 25.30991\\\\\n",
       "\t AR & 35833 &  83300 &  2958208 & 22.40109\\\\\n",
       "\t AZ & 44748 & 128700 &  6641928 & 20.58786\\\\\n",
       "\t CA & 53075 & 252100 & 38421464 & 23.38085\\\\\n",
       "\t CO & 48098 & 198900 &  5278906 & 19.50792\\\\\n",
       "\\end{tabular}\n"
      ],
      "text/markdown": [
       "\n",
       "A tibble: 6 × 5\n",
       "\n",
       "| state &lt;chr&gt; | med_income &lt;dbl&gt; | med_prop_val &lt;dbl&gt; | population &lt;dbl&gt; | mean_commute_minutes &lt;dbl&gt; |\n",
       "|---|---|---|---|---|\n",
       "| AK | 64222 | 197300 |   733375 | 10.46830 |\n",
       "| AL | 36924 |  94800 |  4830620 | 25.30991 |\n",
       "| AR | 35833 |  83300 |  2958208 | 22.40109 |\n",
       "| AZ | 44748 | 128700 |  6641928 | 20.58786 |\n",
       "| CA | 53075 | 252100 | 38421464 | 23.38085 |\n",
       "| CO | 48098 | 198900 |  5278906 | 19.50792 |\n",
       "\n"
      ],
      "text/plain": [
       "  state med_income med_prop_val population mean_commute_minutes\n",
       "1 AK    64222      197300         733375   10.46830            \n",
       "2 AL    36924       94800        4830620   25.30991            \n",
       "3 AR    35833       83300        2958208   22.40109            \n",
       "4 AZ    44748      128700        6641928   20.58786            \n",
       "5 CA    53075      252100       38421464   23.38085            \n",
       "6 CO    48098      198900        5278906   19.50792            "
      ]
     },
     "metadata": {},
     "output_type": "display_data"
    }
   ],
   "source": [
    "library(tidyverse, quietly = TRUE)\n",
    "us_2015_econ <- read_csv(\"data/state_property_data.csv\")\n",
    "head(us_2015_econ)"
   ]
  },
  {
   "cell_type": "code",
   "execution_count": 2,
   "metadata": {
    "slideshow": {
     "slide_type": "slide"
    }
   },
   "outputs": [
    {
     "data": {
      "image/png": "[encoded data removed]",
      "text/plain": [
       "plot without title"
      ]
     },
     "metadata": {},
     "output_type": "display_data"
    }
   ],
   "source": [
    "options(repr.plot.height = 3, repr.plot.width = 4)\n",
    "ggplot(us_2015_econ, aes(x = med_income, y = med_prop_val)) +\n",
    "  geom_point() +\n",
    "  xlab(\"Income (USD)\") +\n",
    "  ylab(\"Median property value (USD)\")"
   ]
  },
  {
   "cell_type": "code",
   "execution_count": 3,
   "metadata": {
    "slideshow": {
     "slide_type": "slide"
    }
   },
   "outputs": [
    {
     "name": "stderr",
     "output_type": "stream",
     "text": [
      "Parsed with column specification:\n",
      "cols(\n",
      "  party = \u001b[31mcol_character()\u001b[39m,\n",
      "  state = \u001b[31mcol_character()\u001b[39m\n",
      ")\n"
     ]
    },
    {
     "data": {
      "text/html": [
       "<table>\n",
       "<caption>A tibble: 6 × 2</caption>\n",
       "<thead>\n",
       "\t<tr><th scope=col>party</th><th scope=col>state</th></tr>\n",
       "\t<tr><th scope=col>&lt;chr&gt;</th><th scope=col>&lt;chr&gt;</th></tr>\n",
       "</thead>\n",
       "<tbody>\n",
       "\t<tr><td>republican</td><td>AL</td></tr>\n",
       "\t<tr><td>republican</td><td>AK</td></tr>\n",
       "\t<tr><td>republican</td><td>AZ</td></tr>\n",
       "\t<tr><td>republican</td><td>AR</td></tr>\n",
       "\t<tr><td>democrat  </td><td>CA</td></tr>\n",
       "\t<tr><td>democrat  </td><td>CO</td></tr>\n",
       "</tbody>\n",
       "</table>\n"
      ],
      "text/latex": [
       "A tibble: 6 × 2\n",
       "\\begin{tabular}{r|ll}\n",
       " party & state\\\\\n",
       " <chr> & <chr>\\\\\n",
       "\\hline\n",
       "\t republican & AL\\\\\n",
       "\t republican & AK\\\\\n",
       "\t republican & AZ\\\\\n",
       "\t republican & AR\\\\\n",
       "\t democrat   & CA\\\\\n",
       "\t democrat   & CO\\\\\n",
       "\\end{tabular}\n"
      ],
      "text/markdown": [
       "\n",
       "A tibble: 6 × 2\n",
       "\n",
       "| party &lt;chr&gt; | state &lt;chr&gt; |\n",
       "|---|---|\n",
       "| republican | AL |\n",
       "| republican | AK |\n",
       "| republican | AZ |\n",
       "| republican | AR |\n",
       "| democrat   | CA |\n",
       "| democrat   | CO |\n",
       "\n"
      ],
      "text/plain": [
       "  party      state\n",
       "1 republican AL   \n",
       "2 republican AK   \n",
       "3 republican AZ   \n",
       "4 republican AR   \n",
       "5 democrat   CA   \n",
       "6 democrat   CO   "
      ]
     },
     "metadata": {},
     "output_type": "display_data"
    }
   ],
   "source": [
    "us_2016_vote <- read_csv(\"data/2016_presidential_election_state_vote.csv\")\n",
    "head(us_2016_vote)"
   ]
  },
  {
   "cell_type": "code",
   "execution_count": 4,
   "metadata": {
    "slideshow": {
     "slide_type": "slide"
    }
   },
   "outputs": [
    {
     "name": "stderr",
     "output_type": "stream",
     "text": [
      "Joining, by = \"state\"\n"
     ]
    },
    {
     "data": {
      "text/html": [
       "<table>\n",
       "<caption>A tibble: 6 × 6</caption>\n",
       "<thead>\n",
       "\t<tr><th scope=col>state</th><th scope=col>med_income</th><th scope=col>med_prop_val</th><th scope=col>population</th><th scope=col>mean_commute_minutes</th><th scope=col>party</th></tr>\n",
       "\t<tr><th scope=col>&lt;chr&gt;</th><th scope=col>&lt;dbl&gt;</th><th scope=col>&lt;dbl&gt;</th><th scope=col>&lt;dbl&gt;</th><th scope=col>&lt;dbl&gt;</th><th scope=col>&lt;chr&gt;</th></tr>\n",
       "</thead>\n",
       "<tbody>\n",
       "\t<tr><td>AK</td><td>64222</td><td>197300</td><td>  733375</td><td>10.46830</td><td>republican</td></tr>\n",
       "\t<tr><td>AL</td><td>36924</td><td> 94800</td><td> 4830620</td><td>25.30991</td><td>republican</td></tr>\n",
       "\t<tr><td>AR</td><td>35833</td><td> 83300</td><td> 2958208</td><td>22.40109</td><td>republican</td></tr>\n",
       "\t<tr><td>AZ</td><td>44748</td><td>128700</td><td> 6641928</td><td>20.58786</td><td>republican</td></tr>\n",
       "\t<tr><td>CA</td><td>53075</td><td>252100</td><td>38421464</td><td>23.38085</td><td>democrat  </td></tr>\n",
       "\t<tr><td>CO</td><td>48098</td><td>198900</td><td> 5278906</td><td>19.50792</td><td>democrat  </td></tr>\n",
       "</tbody>\n",
       "</table>\n"
      ],
      "text/latex": [
       "A tibble: 6 × 6\n",
       "\\begin{tabular}{r|llllll}\n",
       " state & med\\_income & med\\_prop\\_val & population & mean\\_commute\\_minutes & party\\\\\n",
       " <chr> & <dbl> & <dbl> & <dbl> & <dbl> & <chr>\\\\\n",
       "\\hline\n",
       "\t AK & 64222 & 197300 &   733375 & 10.46830 & republican\\\\\n",
       "\t AL & 36924 &  94800 &  4830620 & 25.30991 & republican\\\\\n",
       "\t AR & 35833 &  83300 &  2958208 & 22.40109 & republican\\\\\n",
       "\t AZ & 44748 & 128700 &  6641928 & 20.58786 & republican\\\\\n",
       "\t CA & 53075 & 252100 & 38421464 & 23.38085 & democrat  \\\\\n",
       "\t CO & 48098 & 198900 &  5278906 & 19.50792 & democrat  \\\\\n",
       "\\end{tabular}\n"
      ],
      "text/markdown": [
       "\n",
       "A tibble: 6 × 6\n",
       "\n",
       "| state &lt;chr&gt; | med_income &lt;dbl&gt; | med_prop_val &lt;dbl&gt; | population &lt;dbl&gt; | mean_commute_minutes &lt;dbl&gt; | party &lt;chr&gt; |\n",
       "|---|---|---|---|---|---|\n",
       "| AK | 64222 | 197300 |   733375 | 10.46830 | republican |\n",
       "| AL | 36924 |  94800 |  4830620 | 25.30991 | republican |\n",
       "| AR | 35833 |  83300 |  2958208 | 22.40109 | republican |\n",
       "| AZ | 44748 | 128700 |  6641928 | 20.58786 | republican |\n",
       "| CA | 53075 | 252100 | 38421464 | 23.38085 | democrat   |\n",
       "| CO | 48098 | 198900 |  5278906 | 19.50792 | democrat   |\n",
       "\n"
      ],
      "text/plain": [
       "  state med_income med_prop_val population mean_commute_minutes party     \n",
       "1 AK    64222      197300         733375   10.46830             republican\n",
       "2 AL    36924       94800        4830620   25.30991             republican\n",
       "3 AR    35833       83300        2958208   22.40109             republican\n",
       "4 AZ    44748      128700        6641928   20.58786             republican\n",
       "5 CA    53075      252100       38421464   23.38085             democrat  \n",
       "6 CO    48098      198900        5278906   19.50792             democrat  "
      ]
     },
     "metadata": {},
     "output_type": "display_data"
    }
   ],
   "source": [
    "us_data <- left_join(us_2015_econ, us_2016_vote)\n",
    "head(us_data)"
   ]
  },
  {
   "cell_type": "code",
   "execution_count": 5,
   "metadata": {
    "slideshow": {
     "slide_type": "slide"
    }
   },
   "outputs": [
    {
     "data": {
      "image/png": "[encoded data removed]",
      "text/plain": [
       "plot without title"
      ]
     },
     "metadata": {},
     "output_type": "display_data"
    }
   ],
   "source": [
    "options(repr.plot.height = 3, repr.plot.width = 5)\n",
    "ggplot(us_data, aes(x = med_income, y = med_prop_val, color = party)) +\n",
    "  geom_point() +\n",
    "  xlab(\"Income (USD)\") +\n",
    "  ylab(\"Median property value (USD)\")"
   ]
  },
  {
   "cell_type": "code",
   "execution_count": 6,
   "metadata": {
    "slideshow": {
     "slide_type": "slide"
    }
   },
   "outputs": [
    {
     "data": {
      "image/png": "[encoded data removed]",
      "text/plain": [
       "plot without title"
      ]
     },
     "metadata": {},
     "output_type": "display_data"
    }
   ],
   "source": [
    "state_data <- filter(us_data, party != \"Not Applicable\")\n",
    "ggplot(state_data, aes(x = med_income, y = med_prop_val, color = party)) +\n",
    "    geom_point() +\n",
    "    xlab(\"Income (USD)\") +\n",
    "    ylab(\"Median property value (USD)\") +\n",
    "    scale_colour_manual(values = c(\"blue\", \"red\")) +\n",
    "    scale_x_continuous(labels = scales::dollar_format()) +\n",
    "    scale_y_continuous(labels = scales::dollar_format())"
   ]
  },
  {
   "cell_type": "markdown",
   "metadata": {
    "slideshow": {
     "slide_type": "slide"
    }
   },
   "source": [
    "### The whole game"
   ]
  },
  {
   "cell_type": "raw",
   "metadata": {
    "slideshow": {
     "slide_type": "fragment"
    }
   },
   "source": [
    "library(tidyverse, quietly = TRUE)\n",
    "us_2015_econ <- read_csv(\"data/state_property_data.csv\")\n",
    "us_2016_vote <- read_csv(\"data/2016_presidential_election_state_vote.csv\")\n",
    "state_data <- left_join(us_2015_econ, us_2016_vote) %>%\n",
    "    filter(party != \"Not Applicable\")\n",
    "ggplot(state_data, aes(x = med_income, y = med_prop_val, color = party)) +\n",
    "    geom_point() +\n",
    "    xlab(\"Income (USD)\") +\n",
    "    ylab(\"Median property value (USD)\") +\n",
    "    scale_colour_manual(values = c(\"blue\", \"red\")) +\n",
    "    scale_x_continuous(labels = scales::dollar_format()) +\n",
    "    scale_y_continuous(labels = scales::dollar_format())"
   ]
  },
  {
   "cell_type": "markdown",
   "metadata": {
    "slideshow": {
     "slide_type": "slide"
    }
   },
   "source": [
    "- What about this makes R an attractive language for data science?\n",
    "- What is different about this R code compared to other common languages?\n",
    "- How & why does R do these things? \n",
    "\n",
    "Answering these questions is the aim of the second part of this course!"
   ]
  },
  {
   "cell_type": "markdown",
   "metadata": {
    "slideshow": {
     "slide_type": "slide"
    }
   },
   "source": [
    "### Lecture learning objectives:\n",
    "\n",
    "By then end of the lecture & lab 3, students should be able to:\n",
    "- Use the assignment symbol, `<-`, to assign values to objects in R and explain how it differs from `=`\n",
    "- Create in R, and define and differentiate in English, the below listed key datatypes in R:\n",
    "    - logical, numeric and character vectors\n",
    "    - lists\n",
    "    - data frames and tibbles\n",
    "- Use R to determine the type and structure of an object\n",
    "- Explain the distinction between names and values, and when R will copy an object\n"
   ]
  },
  {
   "cell_type": "markdown",
   "metadata": {
    "slideshow": {
     "slide_type": "slide"
    }
   },
   "source": [
    "- Use the three subsetting operators, `[[`, `[`, and `$`, to subset single and multiple elements from vectors and data frames\n",
    "- Compute numeric and boolean values using their respective types and operations\n",
    "- Write conditional statements in R with `if`, `else if` and `else` to run different code depending on the input\n",
    "- Write for loops in R to repeatedly run code\n",
    "- Write R code that is human readable and follows the tidyverse style guide"
   ]
  },
  {
   "cell_type": "markdown",
   "metadata": {
    "slideshow": {
     "slide_type": "slide"
    }
   },
   "source": [
    "### The assignment symbol, `<-`\n",
    "\n",
    "- R came from S, S used `<-`\n",
    "- S was inspired from APL, which also used `<-`\n",
    "- APL was designed on a specific keyboard, which had a key for `<-`\n",
    "- At that time there was no `==` for testing equality, it was tested with `=`, so something else need to be used for assignment.\n",
    "\n",
    "<img src=\"https://upload.wikimedia.org/wikipedia/commons/thumb/9/9f/APL-keybd2.svg/410px-APL-keybd2.svg.png\">\n",
    "\n",
    "source: https://colinfay.me/r-assignment/"
   ]
  },
  {
   "cell_type": "markdown",
   "metadata": {
    "slideshow": {
     "slide_type": "slide"
    }
   },
   "source": [
    "### The assigment symbol, `<-`\n",
    "\n",
    "- Nowadays, `=` can also be used for assignment, however there are some things to be aware of..."
   ]
  },
  {
   "cell_type": "markdown",
   "metadata": {
    "slideshow": {
     "slide_type": "fragment"
    }
   },
   "source": [
    "- stylistically, `<-` is preferred over `=` for readability"
   ]
  },
  {
   "cell_type": "markdown",
   "metadata": {
    "slideshow": {
     "slide_type": "fragment"
    }
   },
   "source": [
    "- `<-` and `->` are valid in R, the latter can be useful in pipelines (more on this in data wrangling)"
   ]
  },
  {
   "cell_type": "markdown",
   "metadata": {
    "slideshow": {
     "slide_type": "fragment"
    }
   },
   "source": [
    "- `<-` and `=` have different emphasis in regards to environments"
   ]
  },
  {
   "cell_type": "markdown",
   "metadata": {
    "slideshow": {
     "slide_type": "fragment"
    }
   },
   "source": [
    "- **we expect you to use `<-` in MDS for object assignment in R** "
   ]
  },
  {
   "cell_type": "markdown",
   "metadata": {
    "slideshow": {
     "slide_type": "slide"
    }
   },
   "source": [
    "#### Assignment readability\n",
    "\n",
    "Consider this code:\n",
    "\n",
    "```\n",
    "c <- 12\n",
    "d <- 13\n",
    "```"
   ]
  },
  {
   "cell_type": "markdown",
   "metadata": {
    "slideshow": {
     "slide_type": "fragment"
    }
   },
   "source": [
    "Which equality is easier to read? \n",
    "\n",
    "```\n",
    "e = c == d\n",
    "```\n",
    "\n",
    "or\n",
    "\n",
    "```\n",
    "e <- c == d\n",
    "```"
   ]
  },
  {
   "cell_type": "markdown",
   "metadata": {
    "slideshow": {
     "slide_type": "slide"
    }
   },
   "source": [
    "#### Assignment environment\n",
    "\n",
    "What value does x hold at the end of each of these code chunks?"
   ]
  },
  {
   "cell_type": "markdown",
   "metadata": {
    "slideshow": {
     "slide_type": "fragment"
    }
   },
   "source": [
    "\n",
    "\n",
    "```median(x = 1:10)```\n",
    "\n",
    "vs\n",
    "\n",
    "```median(x <- 1:10)```"
   ]
  },
  {
   "cell_type": "code",
   "execution_count": 8,
   "metadata": {
    "slideshow": {
     "slide_type": "slide"
    }
   },
   "outputs": [
    {
     "ename": "ERROR",
     "evalue": "Error in is.factor(x): argument \"x\" is missing, with no default\n",
     "output_type": "error",
     "traceback": [
      "Error in is.factor(x): argument \"x\" is missing, with no default\nTraceback:\n",
      "1. median(y = 1:10)",
      "2. median.default(y = 1:10)",
      "3. is.factor(x)"
     ]
    }
   ],
   "source": [
    "median(y = 1:10)\n",
    "x"
   ]
  },
  {
   "cell_type": "code",
   "execution_count": 13,
   "metadata": {
    "slideshow": {
     "slide_type": "slide"
    }
   },
   "outputs": [
    {
     "data": {
      "text/html": [
       "5.5"
      ],
      "text/latex": [
       "5.5"
      ],
      "text/markdown": [
       "5.5"
      ],
      "text/plain": [
       "[1] 5.5"
      ]
     },
     "metadata": {},
     "output_type": "display_data"
    },
    {
     "data": {
      "text/html": [
       "<ol class=list-inline>\n",
       "\t<li>1</li>\n",
       "\t<li>2</li>\n",
       "\t<li>3</li>\n",
       "\t<li>4</li>\n",
       "\t<li>5</li>\n",
       "\t<li>6</li>\n",
       "\t<li>7</li>\n",
       "\t<li>8</li>\n",
       "\t<li>9</li>\n",
       "\t<li>10</li>\n",
       "</ol>\n"
      ],
      "text/latex": [
       "\\begin{enumerate*}\n",
       "\\item 1\n",
       "\\item 2\n",
       "\\item 3\n",
       "\\item 4\n",
       "\\item 5\n",
       "\\item 6\n",
       "\\item 7\n",
       "\\item 8\n",
       "\\item 9\n",
       "\\item 10\n",
       "\\end{enumerate*}\n"
      ],
      "text/markdown": [
       "1. 1\n",
       "2. 2\n",
       "3. 3\n",
       "4. 4\n",
       "5. 5\n",
       "6. 6\n",
       "7. 7\n",
       "8. 8\n",
       "9. 9\n",
       "10. 10\n",
       "\n",
       "\n"
      ],
      "text/plain": [
       " [1]  1  2  3  4  5  6  7  8  9 10"
      ]
     },
     "metadata": {},
     "output_type": "display_data"
    }
   ],
   "source": [
    "median(x <- 1:10)\n",
    "x"
   ]
  },
  {
   "cell_type": "markdown",
   "metadata": {
    "slideshow": {
     "slide_type": "slide"
    }
   },
   "source": [
    "### What does assignment do in R?\n",
    "\n",
    "When you type this into R: `x <- c(1, 2, 3)`\n",
    "\n",
    "This is what R does: \n",
    "\n",
    "<img src=\"https://d33wubrfki0l68.cloudfront.net/bd90c87ac98708b1731c92900f2f53ec6a71edaf/ce375/diagrams/name-value/binding-1.png\" width=300 algin=\"left\">\n",
    "\n",
    "*Source: [Advanced R](https://adv-r.hadley.nz/) by Hadley Wickham*"
   ]
  },
  {
   "cell_type": "markdown",
   "metadata": {
    "slideshow": {
     "slide_type": "slide"
    }
   },
   "source": [
    "### What does assignment do in R?\n",
    "\n",
    "And then if you type `y <- c(1, 2, 3)`\n",
    "\n",
    "Then R does this:\n",
    "\n",
    "<img src=\"https://d33wubrfki0l68.cloudfront.net/bdc72c04d3135f19fb3ab13731129eb84c9170af/f0ab9/diagrams/name-value/binding-2.png\" width=300 algin=\"left\">\n",
    "\n",
    "*We are binding names like \"x\" and/or \"y\" to objects, not creating objects named something like \"x\" or \"y\".*\n",
    "\n",
    "*Source: [Advanced R](https://adv-r.hadley.nz/) by Hadley Wickham*"
   ]
  },
  {
   "cell_type": "markdown",
   "metadata": {
    "slideshow": {
     "slide_type": "slide"
    }
   },
   "source": [
    "### A note on names\n",
    "\n",
    "#### Rules for syntactic names:\n",
    "- May use: letters, digits, `.` and `_`\n",
    "- Cannot begin with `_` or a digit\n",
    "- Cannot use reserved words (e.g., `for`, `if`, `return`)\n",
    "\n",
    "#### How to manage non-syntactic names\n",
    "- Usually come across these when reading in someone else's data\n",
    "- Backticks, \\`, can be used manage these cases (e.g., ``` `_abc` <- 1 ```)\n",
    "- If your data contains these, use R to rename things to make them syntactic (for your future sanity)"
   ]
  },
  {
   "cell_type": "markdown",
   "metadata": {
    "slideshow": {
     "slide_type": "slide"
    }
   },
   "source": [
    "### Key datatypes in R\n",
    "\n",
    "<img src=\"img/r_datatypes.png\" width=1000>\n",
    "\n",
    "*note - There are no scalars in R, they are represented by vectors of length 1.*\n",
    "\n",
    "*Source: [Advanced R](https://adv-r.hadley.nz/) by Hadley Wickham*"
   ]
  },
  {
   "cell_type": "markdown",
   "metadata": {
    "slideshow": {
     "slide_type": "notes"
    }
   },
   "source": [
    "- `NULL` is not a vector, but related and frequently functions in the role of a generic zero length vector."
   ]
  },
  {
   "cell_type": "markdown",
   "metadata": {
    "slideshow": {
     "slide_type": "slide"
    }
   },
   "source": [
    "#### What is a data frame?\n",
    "\n",
    "From a data perspective, it is a rectangle where the rows are the observations:\n",
    "\n",
    "<img src=\"https://ubc-dsci.github.io/introduction-to-datascience/img/obs.jpeg\" width=800>"
   ]
  },
  {
   "cell_type": "markdown",
   "metadata": {
    "slideshow": {
     "slide_type": "slide"
    }
   },
   "source": [
    "#### What is a data frame?\n",
    "\n",
    "and the columns are the variables:\n",
    "\n",
    "<img src=\"https://ubc-dsci.github.io/introduction-to-datascience/img/vars.jpeg\" width=800>"
   ]
  },
  {
   "cell_type": "markdown",
   "metadata": {
    "slideshow": {
     "slide_type": "slide"
    }
   },
   "source": [
    "#### What is a data frame? \n",
    "\n",
    "From a computer programming perspective, in R, a data frame is a special subtype of a list object whose elements (columns) are vectors.\n",
    "\n",
    "<img src=\"https://ubc-dsci.github.io/introduction-to-datascience/img/vectors.jpeg\" width=800>"
   ]
  },
  {
   "cell_type": "markdown",
   "metadata": {
    "slideshow": {
     "slide_type": "fragment"
    }
   },
   "source": [
    "**Question:** What do you notice about the elements of each of the vectors in this data frame?"
   ]
  },
  {
   "cell_type": "markdown",
   "metadata": {
    "slideshow": {
     "slide_type": "slide"
    }
   },
   "source": [
    "#### What is a vector?\n",
    "\n",
    "- objects that can contain 1 or more elements\n",
    "- elements are ordered\n",
    "- must all be of the same type (e.g., double, integer, character, logical)\n",
    "\n",
    "<img src=\"https://ubc-dsci.github.io/introduction-to-datascience/img/vector.jpeg\" width=800>"
   ]
  },
  {
   "cell_type": "markdown",
   "metadata": {
    "slideshow": {
     "slide_type": "slide"
    }
   },
   "source": [
    "#### How are vectors different from a list?\n",
    "<img src=\"https://ubc-dsci.github.io/introduction-to-datascience/img/vec_vs_list.jpeg\" width=800>"
   ]
  },
  {
   "cell_type": "markdown",
   "metadata": {
    "slideshow": {
     "slide_type": "slide"
    }
   },
   "source": [
    "#### Reminder: what do lists have to do with data frames?\n",
    "\n",
    "<img src=\"https://ubc-dsci.github.io/introduction-to-datascience/img/dataframe.jpeg\" width=800>"
   ]
  },
  {
   "cell_type": "markdown",
   "metadata": {
    "slideshow": {
     "slide_type": "slide"
    }
   },
   "source": [
    "### A bit more about Vectors\n",
    "\n",
    "Your closest and most important friend in R\n",
    "\n",
    "<img src=\"https://media.giphy.com/media/EQCgmS4lwDS8g/giphy.gif\" width=800>"
   ]
  },
  {
   "cell_type": "markdown",
   "metadata": {
    "slideshow": {
     "slide_type": "slide"
    }
   },
   "source": [
    "#### Creating vectors and vector types"
   ]
  },
  {
   "cell_type": "code",
   "execution_count": 14,
   "metadata": {
    "slideshow": {
     "slide_type": "fragment"
    }
   },
   "outputs": [
    {
     "data": {
      "text/html": [
       "<ol class=list-inline>\n",
       "\t<li>'joy'</li>\n",
       "\t<li>'peace'</li>\n",
       "\t<li>'help'</li>\n",
       "\t<li>'fun'</li>\n",
       "\t<li>'sharing'</li>\n",
       "</ol>\n"
      ],
      "text/latex": [
       "\\begin{enumerate*}\n",
       "\\item 'joy'\n",
       "\\item 'peace'\n",
       "\\item 'help'\n",
       "\\item 'fun'\n",
       "\\item 'sharing'\n",
       "\\end{enumerate*}\n"
      ],
      "text/markdown": [
       "1. 'joy'\n",
       "2. 'peace'\n",
       "3. 'help'\n",
       "4. 'fun'\n",
       "5. 'sharing'\n",
       "\n",
       "\n"
      ],
      "text/plain": [
       "[1] \"joy\"     \"peace\"   \"help\"    \"fun\"     \"sharing\""
      ]
     },
     "metadata": {},
     "output_type": "display_data"
    },
    {
     "data": {
      "text/html": [
       "'character'"
      ],
      "text/latex": [
       "'character'"
      ],
      "text/markdown": [
       "'character'"
      ],
      "text/plain": [
       "[1] \"character\""
      ]
     },
     "metadata": {},
     "output_type": "display_data"
    }
   ],
   "source": [
    "char_vec <- c(\"joy\", \"peace\", \"help\", \"fun\", \"sharing\")\n",
    "char_vec\n",
    "typeof(char_vec)"
   ]
  },
  {
   "cell_type": "code",
   "execution_count": 15,
   "metadata": {
    "slideshow": {
     "slide_type": "fragment"
    }
   },
   "outputs": [
    {
     "data": {
      "text/html": [
       "<ol class=list-inline>\n",
       "\t<li>TRUE</li>\n",
       "\t<li>TRUE</li>\n",
       "\t<li>FALSE</li>\n",
       "\t<li>FALSE</li>\n",
       "\t<li>TRUE</li>\n",
       "</ol>\n"
      ],
      "text/latex": [
       "\\begin{enumerate*}\n",
       "\\item TRUE\n",
       "\\item TRUE\n",
       "\\item FALSE\n",
       "\\item FALSE\n",
       "\\item TRUE\n",
       "\\end{enumerate*}\n"
      ],
      "text/markdown": [
       "1. TRUE\n",
       "2. TRUE\n",
       "3. FALSE\n",
       "4. FALSE\n",
       "5. TRUE\n",
       "\n",
       "\n"
      ],
      "text/plain": [
       "[1]  TRUE  TRUE FALSE FALSE  TRUE"
      ]
     },
     "metadata": {},
     "output_type": "display_data"
    },
    {
     "data": {
      "text/html": [
       "'logical'"
      ],
      "text/latex": [
       "'logical'"
      ],
      "text/markdown": [
       "'logical'"
      ],
      "text/plain": [
       "[1] \"logical\""
      ]
     },
     "metadata": {},
     "output_type": "display_data"
    }
   ],
   "source": [
    "log_vec <- c(TRUE, TRUE, FALSE, FALSE, TRUE)\n",
    "log_vec\n",
    "typeof(log_vec)"
   ]
  },
  {
   "cell_type": "code",
   "execution_count": 16,
   "metadata": {
    "slideshow": {
     "slide_type": "fragment"
    }
   },
   "outputs": [
    {
     "data": {
      "text/html": [
       "<ol class=list-inline>\n",
       "\t<li>1</li>\n",
       "\t<li>2</li>\n",
       "\t<li>3</li>\n",
       "\t<li>4</li>\n",
       "\t<li>5</li>\n",
       "</ol>\n"
      ],
      "text/latex": [
       "\\begin{enumerate*}\n",
       "\\item 1\n",
       "\\item 2\n",
       "\\item 3\n",
       "\\item 4\n",
       "\\item 5\n",
       "\\end{enumerate*}\n"
      ],
      "text/markdown": [
       "1. 1\n",
       "2. 2\n",
       "3. 3\n",
       "4. 4\n",
       "5. 5\n",
       "\n",
       "\n"
      ],
      "text/plain": [
       "[1] 1 2 3 4 5"
      ]
     },
     "metadata": {},
     "output_type": "display_data"
    },
    {
     "data": {
      "text/html": [
       "'double'"
      ],
      "text/latex": [
       "'double'"
      ],
      "text/markdown": [
       "'double'"
      ],
      "text/plain": [
       "[1] \"double\""
      ]
     },
     "metadata": {},
     "output_type": "display_data"
    }
   ],
   "source": [
    "double_vec <- c(1, 2, 3, 4, 5)\n",
    "double_vec\n",
    "typeof(double_vec)"
   ]
  },
  {
   "cell_type": "code",
   "execution_count": 17,
   "metadata": {
    "slideshow": {
     "slide_type": "slide"
    }
   },
   "outputs": [
    {
     "data": {
      "text/html": [
       "<ol class=list-inline>\n",
       "\t<li>1</li>\n",
       "\t<li>2</li>\n",
       "\t<li>3</li>\n",
       "\t<li>4</li>\n",
       "\t<li>5</li>\n",
       "</ol>\n"
      ],
      "text/latex": [
       "\\begin{enumerate*}\n",
       "\\item 1\n",
       "\\item 2\n",
       "\\item 3\n",
       "\\item 4\n",
       "\\item 5\n",
       "\\end{enumerate*}\n"
      ],
      "text/markdown": [
       "1. 1\n",
       "2. 2\n",
       "3. 3\n",
       "4. 4\n",
       "5. 5\n",
       "\n",
       "\n"
      ],
      "text/plain": [
       "[1] 1 2 3 4 5"
      ]
     },
     "metadata": {},
     "output_type": "display_data"
    },
    {
     "data": {
      "text/html": [
       "'integer'"
      ],
      "text/latex": [
       "'integer'"
      ],
      "text/markdown": [
       "'integer'"
      ],
      "text/plain": [
       "[1] \"integer\""
      ]
     },
     "metadata": {},
     "output_type": "display_data"
    }
   ],
   "source": [
    "int_vec <- c(1L, 2L, 3L, 4L, 5L)\n",
    "int_vec\n",
    "typeof(int_vec)"
   ]
  },
  {
   "cell_type": "markdown",
   "metadata": {
    "slideshow": {
     "slide_type": "fragment"
    }
   },
   "source": [
    "`str` is a useful command to get even more information about an object:"
   ]
  },
  {
   "cell_type": "code",
   "execution_count": 18,
   "metadata": {
    "slideshow": {
     "slide_type": "fragment"
    }
   },
   "outputs": [
    {
     "name": "stdout",
     "output_type": "stream",
     "text": [
      " int [1:5] 1 2 3 4 5\n"
     ]
    }
   ],
   "source": [
    "str(int_vec)"
   ]
  },
  {
   "cell_type": "markdown",
   "metadata": {
    "slideshow": {
     "slide_type": "slide"
    }
   },
   "source": [
    "#### What happens to vectors of mixed type?\n",
    "\n"
   ]
  },
  {
   "cell_type": "code",
   "execution_count": 19,
   "metadata": {
    "slideshow": {
     "slide_type": "fragment"
    }
   },
   "outputs": [
    {
     "data": {
      "text/html": [
       "'character'"
      ],
      "text/latex": [
       "'character'"
      ],
      "text/markdown": [
       "'character'"
      ],
      "text/plain": [
       "[1] \"character\""
      ]
     },
     "metadata": {},
     "output_type": "display_data"
    }
   ],
   "source": [
    "mixed_vec <- c(\"joy\", 5.6, TRUE, 1L, \"sharing\")\n",
    "typeof(mixed_vec)"
   ]
  },
  {
   "cell_type": "markdown",
   "metadata": {
    "slideshow": {
     "slide_type": "fragment"
    }
   },
   "source": [
    "Hierarchy for coercion:\n",
    "\n",
    "character → double → integer → logical"
   ]
  },
  {
   "cell_type": "markdown",
   "metadata": {
    "slideshow": {
     "slide_type": "notes"
    }
   },
   "source": [
    "#### Useful functions for testing type and forcing coercion:\n",
    "\n",
    "- `is.logical()`, `is.integer()`, `is.double()`, and `is.character()` returns `TRUE` or `FALSE`, depending on type of object and function used.\n",
    "- `as.logical()`, `as.integer()`,` as.double()`, or `as.character()` coerce vector to type specified by function name. "
   ]
  },
  {
   "cell_type": "markdown",
   "metadata": {
    "slideshow": {
     "slide_type": "slide"
    }
   },
   "source": [
    "#### How to subset and modify vectors\n",
    "\n",
    "<img src=\"https://media.giphy.com/media/l4pTocra1lFDomV5S/giphy.gif\" width=700>"
   ]
  },
  {
   "cell_type": "markdown",
   "metadata": {
    "slideshow": {
     "slide_type": "slide"
    }
   },
   "source": [
    "#### Subsetting \n",
    "\n",
    "- REMEMBER - R counts from 1!!!"
   ]
  },
  {
   "cell_type": "code",
   "execution_count": 20,
   "metadata": {
    "slideshow": {
     "slide_type": "fragment"
    }
   },
   "outputs": [],
   "source": [
    "name <- c(\"T\", \"i\", \"f\", \"f\", \"a\", \"n\", \"y\")"
   ]
  },
  {
   "cell_type": "markdown",
   "metadata": {
    "slideshow": {
     "slide_type": "fragment"
    }
   },
   "source": [
    "What letter will I get in R? What would I get in Python?"
   ]
  },
  {
   "cell_type": "code",
   "execution_count": 21,
   "metadata": {
    "slideshow": {
     "slide_type": "fragment"
    }
   },
   "outputs": [
    {
     "data": {
      "text/html": [
       "'f'"
      ],
      "text/latex": [
       "'f'"
      ],
      "text/markdown": [
       "'f'"
      ],
      "text/plain": [
       "[1] \"f\""
      ]
     },
     "metadata": {},
     "output_type": "display_data"
    }
   ],
   "source": [
    "name[3]"
   ]
  },
  {
   "cell_type": "markdown",
   "metadata": {
    "slideshow": {
     "slide_type": "fragment"
    }
   },
   "source": [
    "What letters will I get in R? What would I get in Python?"
   ]
  },
  {
   "cell_type": "code",
   "execution_count": 22,
   "metadata": {
    "slideshow": {
     "slide_type": "fragment"
    }
   },
   "outputs": [
    {
     "data": {
      "text/html": [
       "<ol class=list-inline>\n",
       "\t<li>'i'</li>\n",
       "\t<li>'f'</li>\n",
       "\t<li>'f'</li>\n",
       "</ol>\n"
      ],
      "text/latex": [
       "\\begin{enumerate*}\n",
       "\\item 'i'\n",
       "\\item 'f'\n",
       "\\item 'f'\n",
       "\\end{enumerate*}\n"
      ],
      "text/markdown": [
       "1. 'i'\n",
       "2. 'f'\n",
       "3. 'f'\n",
       "\n",
       "\n"
      ],
      "text/plain": [
       "[1] \"i\" \"f\" \"f\""
      ]
     },
     "metadata": {},
     "output_type": "display_data"
    }
   ],
   "source": [
    "name[2:4]"
   ]
  },
  {
   "cell_type": "markdown",
   "metadata": {
    "slideshow": {
     "slide_type": "slide"
    }
   },
   "source": [
    "What letter will I get in R? What would I get in Python?"
   ]
  },
  {
   "cell_type": "code",
   "execution_count": 23,
   "metadata": {
    "slideshow": {
     "slide_type": "fragment"
    }
   },
   "outputs": [
    {
     "data": {
      "text/html": [
       "<ol class=list-inline>\n",
       "\t<li>'i'</li>\n",
       "\t<li>'f'</li>\n",
       "\t<li>'f'</li>\n",
       "\t<li>'a'</li>\n",
       "\t<li>'n'</li>\n",
       "\t<li>'y'</li>\n",
       "</ol>\n"
      ],
      "text/latex": [
       "\\begin{enumerate*}\n",
       "\\item 'i'\n",
       "\\item 'f'\n",
       "\\item 'f'\n",
       "\\item 'a'\n",
       "\\item 'n'\n",
       "\\item 'y'\n",
       "\\end{enumerate*}\n"
      ],
      "text/markdown": [
       "1. 'i'\n",
       "2. 'f'\n",
       "3. 'f'\n",
       "4. 'a'\n",
       "5. 'n'\n",
       "6. 'y'\n",
       "\n",
       "\n"
      ],
      "text/plain": [
       "[1] \"i\" \"f\" \"f\" \"a\" \"n\" \"y\""
      ]
     },
     "metadata": {},
     "output_type": "display_data"
    }
   ],
   "source": [
    "name[-1]"
   ]
  },
  {
   "cell_type": "markdown",
   "metadata": {
    "slideshow": {
     "slide_type": "fragment"
    }
   },
   "source": [
    "How do I get the last element in a vector in R?"
   ]
  },
  {
   "cell_type": "code",
   "execution_count": 24,
   "metadata": {
    "slideshow": {
     "slide_type": "fragment"
    }
   },
   "outputs": [
    {
     "data": {
      "text/html": [
       "'y'"
      ],
      "text/latex": [
       "'y'"
      ],
      "text/markdown": [
       "'y'"
      ],
      "text/plain": [
       "[1] \"y\""
      ]
     },
     "metadata": {},
     "output_type": "display_data"
    }
   ],
   "source": [
    "name[length(name)]"
   ]
  },
  {
   "cell_type": "markdown",
   "metadata": {
    "slideshow": {
     "slide_type": "slide"
    }
   },
   "source": [
    "#### Modifing vectors\n",
    "\n",
    "We can combine the assignment symbol and subsetting to modify vectors:"
   ]
  },
  {
   "cell_type": "code",
   "execution_count": 25,
   "metadata": {
    "slideshow": {
     "slide_type": "fragment"
    }
   },
   "outputs": [
    {
     "data": {
      "text/html": [
       "<ol class=list-inline>\n",
       "\t<li>'T'</li>\n",
       "\t<li>'i'</li>\n",
       "\t<li>'f'</li>\n",
       "\t<li>'f'</li>\n",
       "\t<li>'a'</li>\n",
       "\t<li>'n'</li>\n",
       "\t<li>'y'</li>\n",
       "</ol>\n"
      ],
      "text/latex": [
       "\\begin{enumerate*}\n",
       "\\item 'T'\n",
       "\\item 'i'\n",
       "\\item 'f'\n",
       "\\item 'f'\n",
       "\\item 'a'\n",
       "\\item 'n'\n",
       "\\item 'y'\n",
       "\\end{enumerate*}\n"
      ],
      "text/markdown": [
       "1. 'T'\n",
       "2. 'i'\n",
       "3. 'f'\n",
       "4. 'f'\n",
       "5. 'a'\n",
       "6. 'n'\n",
       "7. 'y'\n",
       "\n",
       "\n"
      ],
      "text/plain": [
       "[1] \"T\" \"i\" \"f\" \"f\" \"a\" \"n\" \"y\""
      ]
     },
     "metadata": {},
     "output_type": "display_data"
    }
   ],
   "source": [
    "name"
   ]
  },
  {
   "cell_type": "code",
   "execution_count": 26,
   "metadata": {
    "slideshow": {
     "slide_type": "fragment"
    }
   },
   "outputs": [
    {
     "data": {
      "text/html": [
       "<ol class=list-inline>\n",
       "\t<li>'t'</li>\n",
       "\t<li>'i'</li>\n",
       "\t<li>'f'</li>\n",
       "\t<li>'f'</li>\n",
       "\t<li>'a'</li>\n",
       "\t<li>'n'</li>\n",
       "\t<li>'y'</li>\n",
       "</ol>\n"
      ],
      "text/latex": [
       "\\begin{enumerate*}\n",
       "\\item 't'\n",
       "\\item 'i'\n",
       "\\item 'f'\n",
       "\\item 'f'\n",
       "\\item 'a'\n",
       "\\item 'n'\n",
       "\\item 'y'\n",
       "\\end{enumerate*}\n"
      ],
      "text/markdown": [
       "1. 't'\n",
       "2. 'i'\n",
       "3. 'f'\n",
       "4. 'f'\n",
       "5. 'a'\n",
       "6. 'n'\n",
       "7. 'y'\n",
       "\n",
       "\n"
      ],
      "text/plain": [
       "[1] \"t\" \"i\" \"f\" \"f\" \"a\" \"n\" \"y\""
      ]
     },
     "metadata": {},
     "output_type": "display_data"
    }
   ],
   "source": [
    "name[1] <- \"t\"\n",
    "name"
   ]
  },
  {
   "cell_type": "code",
   "execution_count": 27,
   "metadata": {
    "slideshow": {
     "slide_type": "fragment"
    }
   },
   "outputs": [
    {
     "data": {
      "text/html": [
       "<ol class=list-inline>\n",
       "\t<li>'T'</li>\n",
       "\t<li>'I'</li>\n",
       "\t<li>'F'</li>\n",
       "\t<li>'f'</li>\n",
       "\t<li>'a'</li>\n",
       "\t<li>'n'</li>\n",
       "\t<li>'y'</li>\n",
       "</ol>\n"
      ],
      "text/latex": [
       "\\begin{enumerate*}\n",
       "\\item 'T'\n",
       "\\item 'I'\n",
       "\\item 'F'\n",
       "\\item 'f'\n",
       "\\item 'a'\n",
       "\\item 'n'\n",
       "\\item 'y'\n",
       "\\end{enumerate*}\n"
      ],
      "text/markdown": [
       "1. 'T'\n",
       "2. 'I'\n",
       "3. 'F'\n",
       "4. 'f'\n",
       "5. 'a'\n",
       "6. 'n'\n",
       "7. 'y'\n",
       "\n",
       "\n"
      ],
      "text/plain": [
       "[1] \"T\" \"I\" \"F\" \"f\" \"a\" \"n\" \"y\""
      ]
     },
     "metadata": {},
     "output_type": "display_data"
    },
    {
     "data": {
      "text/html": [
       "<ol class=list-inline>\n",
       "\t<li>NA</li>\n",
       "\t<li>NA</li>\n",
       "\t<li>NA</li>\n",
       "\t<li>NA</li>\n",
       "\t<li>NA</li>\n",
       "</ol>\n"
      ],
      "text/latex": [
       "\\begin{enumerate*}\n",
       "\\item NA\n",
       "\\item NA\n",
       "\\item NA\n",
       "\\item NA\n",
       "\\item NA\n",
       "\\end{enumerate*}\n"
      ],
      "text/markdown": [
       "1. NA\n",
       "2. NA\n",
       "3. NA\n",
       "4. NA\n",
       "5. NA\n",
       "\n",
       "\n"
      ],
      "text/plain": [
       "[1] NA NA NA NA NA"
      ]
     },
     "metadata": {},
     "output_type": "display_data"
    }
   ],
   "source": [
    "name[1:3] <- c(\"T\", \"I\", \"F\")\n",
    "name\n",
    "name[8:12]"
   ]
  },
  {
   "cell_type": "code",
   "execution_count": 28,
   "metadata": {
    "slideshow": {
     "slide_type": "fragment"
    }
   },
   "outputs": [
    {
     "data": {
      "text/html": [
       "<ol class=list-inline>\n",
       "\t<li>'T'</li>\n",
       "\t<li>'I'</li>\n",
       "\t<li>'F'</li>\n",
       "\t<li>'f'</li>\n",
       "\t<li>'a'</li>\n",
       "\t<li>'n'</li>\n",
       "\t<li>'y'</li>\n",
       "\t<li>'-'</li>\n",
       "\t<li>'A'</li>\n",
       "\t<li>'n'</li>\n",
       "\t<li>'n'</li>\n",
       "\t<li>'e'</li>\n",
       "</ol>\n"
      ],
      "text/latex": [
       "\\begin{enumerate*}\n",
       "\\item 'T'\n",
       "\\item 'I'\n",
       "\\item 'F'\n",
       "\\item 'f'\n",
       "\\item 'a'\n",
       "\\item 'n'\n",
       "\\item 'y'\n",
       "\\item '-'\n",
       "\\item 'A'\n",
       "\\item 'n'\n",
       "\\item 'n'\n",
       "\\item 'e'\n",
       "\\end{enumerate*}\n"
      ],
      "text/markdown": [
       "1. 'T'\n",
       "2. 'I'\n",
       "3. 'F'\n",
       "4. 'f'\n",
       "5. 'a'\n",
       "6. 'n'\n",
       "7. 'y'\n",
       "8. '-'\n",
       "9. 'A'\n",
       "10. 'n'\n",
       "11. 'n'\n",
       "12. 'e'\n",
       "\n",
       "\n"
      ],
      "text/plain": [
       " [1] \"T\" \"I\" \"F\" \"f\" \"a\" \"n\" \"y\" \"-\" \"A\" \"n\" \"n\" \"e\""
      ]
     },
     "metadata": {},
     "output_type": "display_data"
    }
   ],
   "source": [
    "name[8:12] <- c(\"-\", \"A\", \"n\", \"n\", \"e\")\n",
    "name"
   ]
  },
  {
   "cell_type": "markdown",
   "metadata": {
    "slideshow": {
     "slide_type": "slide"
    }
   },
   "source": [
    "#### What happens when you modify a vector in R?\n",
    "\n",
    "Consider:\n",
    "\n",
    "```\n",
    "x <- c(1, 2, 3)\n",
    "y <- x\n",
    "\n",
    "y[3] <- 4\n",
    "x\n",
    "#> [1] 1 2 3\n",
    "```\n",
    "\n",
    "What is happening in R's memory for each line of code?\n"
   ]
  },
  {
   "cell_type": "markdown",
   "metadata": {
    "slideshow": {
     "slide_type": "skip"
    }
   },
   "source": [
    "|Code | R's memory representation |\n",
    "|---|---| \n",
    "| `x <- c(1, 2, 3)` | <img src=\"https://d33wubrfki0l68.cloudfront.net/bd90c87ac98708b1731c92900f2f53ec6a71edaf/ce375/diagrams/name-value/binding-1.png\" width=200 algin=\"left\"> |\n",
    "| `y <- x` | <img src=\"https://d33wubrfki0l68.cloudfront.net/bdc72c04d3135f19fb3ab13731129eb84c9170af/f0ab9/diagrams/name-value/binding-2.png\" width=200 algin=\"left\"> |\n",
    "| `y[[3]] <- 4` | <img src=\"https://d33wubrfki0l68.cloudfront.net/ef9f480effa2f1d0e401d1f94218d0cf118433c0/b56e9/diagrams/name-value/binding-3.png\" width=200 algin=\"left\"> |\n",
    "\n",
    "This is called \"copy-on-modify\".\n",
    "\n",
    "*Source: [Advanced R](https://adv-r.hadley.nz/) by Hadley Wickham*"
   ]
  },
  {
   "cell_type": "markdown",
   "metadata": {
    "slideshow": {
     "slide_type": "slide"
    }
   },
   "source": [
    "<img src=\"img/copy-on-modify.png\" width=500>\n",
    "\n",
    "This is called \"copy-on-modify\".\n",
    "\n",
    "*Source: [Advanced R](https://adv-r.hadley.nz/) by Hadley Wickham*"
   ]
  },
  {
   "cell_type": "markdown",
   "metadata": {
    "slideshow": {
     "slide_type": "slide"
    }
   },
   "source": [
    "#### Why copy-on-modify\n",
    "- Since there are no scalars in R, vectors are essentially immutable\n",
    "- If you change one element of the vector, you have to copy the whole thing to update it\n",
    "\n",
    "#### Why do we care about knowing this?\n",
    "- Given that data frames are built on-top of vectors, this has implications for speed when working with large data frames"
   ]
  },
  {
   "cell_type": "markdown",
   "metadata": {
    "slideshow": {
     "slide_type": "slide"
    }
   },
   "source": [
    "#### Why vectors? \n",
    "\n",
    "Vectorized operations! "
   ]
  },
  {
   "cell_type": "code",
   "execution_count": 29,
   "metadata": {
    "slideshow": {
     "slide_type": "fragment"
    }
   },
   "outputs": [
    {
     "data": {
      "text/html": [
       "<ol class=list-inline>\n",
       "\t<li>2</li>\n",
       "\t<li>3</li>\n",
       "\t<li>4</li>\n",
       "\t<li>5</li>\n",
       "</ol>\n"
      ],
      "text/latex": [
       "\\begin{enumerate*}\n",
       "\\item 2\n",
       "\\item 3\n",
       "\\item 4\n",
       "\\item 5\n",
       "\\end{enumerate*}\n"
      ],
      "text/markdown": [
       "1. 2\n",
       "2. 3\n",
       "3. 4\n",
       "4. 5\n",
       "\n",
       "\n"
      ],
      "text/plain": [
       "[1] 2 3 4 5"
      ]
     },
     "metadata": {},
     "output_type": "display_data"
    }
   ],
   "source": [
    "c(1, 2, 3, 4) + c(1, 1, 1, 1)"
   ]
  },
  {
   "cell_type": "markdown",
   "metadata": {
    "slideshow": {
     "slide_type": "slide"
    }
   },
   "source": [
    "But watch out for vector recycling in R!\n",
    "\n",
    "This makes sense:"
   ]
  },
  {
   "cell_type": "code",
   "execution_count": 30,
   "metadata": {
    "slideshow": {
     "slide_type": "fragment"
    }
   },
   "outputs": [
    {
     "data": {
      "text/html": [
       "<ol class=list-inline>\n",
       "\t<li>2</li>\n",
       "\t<li>3</li>\n",
       "\t<li>4</li>\n",
       "\t<li>5</li>\n",
       "</ol>\n"
      ],
      "text/latex": [
       "\\begin{enumerate*}\n",
       "\\item 2\n",
       "\\item 3\n",
       "\\item 4\n",
       "\\item 5\n",
       "\\end{enumerate*}\n"
      ],
      "text/markdown": [
       "1. 2\n",
       "2. 3\n",
       "3. 4\n",
       "4. 5\n",
       "\n",
       "\n"
      ],
      "text/plain": [
       "[1] 2 3 4 5"
      ]
     },
     "metadata": {},
     "output_type": "display_data"
    }
   ],
   "source": [
    "c(1, 2, 3, 4) + c(1)"
   ]
  },
  {
   "cell_type": "markdown",
   "metadata": {
    "slideshow": {
     "slide_type": "fragment"
    }
   },
   "source": [
    "but this does not!"
   ]
  },
  {
   "cell_type": "code",
   "execution_count": 31,
   "metadata": {
    "slideshow": {
     "slide_type": "fragment"
    }
   },
   "outputs": [
    {
     "data": {
      "text/html": [
       "<ol class=list-inline>\n",
       "\t<li>2</li>\n",
       "\t<li>4</li>\n",
       "\t<li>4</li>\n",
       "\t<li>6</li>\n",
       "</ol>\n"
      ],
      "text/latex": [
       "\\begin{enumerate*}\n",
       "\\item 2\n",
       "\\item 4\n",
       "\\item 4\n",
       "\\item 6\n",
       "\\end{enumerate*}\n"
      ],
      "text/markdown": [
       "1. 2\n",
       "2. 4\n",
       "3. 4\n",
       "4. 6\n",
       "\n",
       "\n"
      ],
      "text/plain": [
       "[1] 2 4 4 6"
      ]
     },
     "metadata": {},
     "output_type": "display_data"
    }
   ],
   "source": [
    "c(1, 2, 3, 4) + c(1, 2)"
   ]
  },
  {
   "cell_type": "markdown",
   "metadata": {
    "slideshow": {
     "slide_type": "slide"
    }
   },
   "source": [
    "A list of vector operators here:  [R Operators cheat sheet](https://cran.r-project.org/doc/contrib/Baggott-refcard-v2.pdf)\n",
    "\n",
    "One to watch out for, logical and (`&`) and or (`|`) operators come in both an elementwise and first element comparison form, for example:"
   ]
  },
  {
   "cell_type": "code",
   "execution_count": 54,
   "metadata": {
    "slideshow": {
     "slide_type": "fragment"
    }
   },
   "outputs": [
    {
     "data": {
      "text/html": [
       "<ol class=list-inline>\n",
       "\t<li>FALSE</li>\n",
       "\t<li>TRUE</li>\n",
       "\t<li>TRUE</li>\n",
       "</ol>\n"
      ],
      "text/latex": [
       "\\begin{enumerate*}\n",
       "\\item FALSE\n",
       "\\item TRUE\n",
       "\\item TRUE\n",
       "\\end{enumerate*}\n"
      ],
      "text/markdown": [
       "1. FALSE\n",
       "2. TRUE\n",
       "3. TRUE\n",
       "\n",
       "\n"
      ],
      "text/plain": [
       "[1] FALSE  TRUE  TRUE"
      ]
     },
     "metadata": {},
     "output_type": "display_data"
    }
   ],
   "source": [
    "# compares each elements of each vector by position\n",
    "c(TRUE, TRUE, TRUE) & c(FALSE, TRUE, TRUE)"
   ]
  },
  {
   "cell_type": "code",
   "execution_count": 53,
   "metadata": {
    "slideshow": {
     "slide_type": "fragment"
    }
   },
   "outputs": [
    {
     "data": {
      "text/html": [
       "FALSE"
      ],
      "text/latex": [
       "FALSE"
      ],
      "text/markdown": [
       "FALSE"
      ],
      "text/plain": [
       "[1] FALSE"
      ]
     },
     "metadata": {},
     "output_type": "display_data"
    }
   ],
   "source": [
    "# compares only the first elements of each vector\n",
    "c(TRUE, TRUE, TRUE) && c(FALSE, TRUE, TRUE)"
   ]
  },
  {
   "cell_type": "markdown",
   "metadata": {
    "slideshow": {
     "slide_type": "slide"
    }
   },
   "source": [
    "### Extending our knowledge to data frames"
   ]
  },
  {
   "cell_type": "markdown",
   "metadata": {
    "slideshow": {
     "slide_type": "fragment"
    }
   },
   "source": [
    "<img src=\"https://ubc-dsci.github.io/introduction-to-datascience/img/dataframe.jpeg\" width=800>"
   ]
  },
  {
   "cell_type": "markdown",
   "metadata": {
    "slideshow": {
     "slide_type": "slide"
    }
   },
   "source": [
    "#### Getting to know a data frame"
   ]
  },
  {
   "cell_type": "code",
   "execution_count": 34,
   "metadata": {
    "slideshow": {
     "slide_type": "fragment"
    }
   },
   "outputs": [
    {
     "data": {
      "text/html": [
       "<table>\n",
       "<caption>A tibble: 6 × 6</caption>\n",
       "<thead>\n",
       "\t<tr><th scope=col>state</th><th scope=col>med_income</th><th scope=col>med_prop_val</th><th scope=col>population</th><th scope=col>mean_commute_minutes</th><th scope=col>party</th></tr>\n",
       "\t<tr><th scope=col>&lt;chr&gt;</th><th scope=col>&lt;dbl&gt;</th><th scope=col>&lt;dbl&gt;</th><th scope=col>&lt;dbl&gt;</th><th scope=col>&lt;dbl&gt;</th><th scope=col>&lt;chr&gt;</th></tr>\n",
       "</thead>\n",
       "<tbody>\n",
       "\t<tr><td>AK</td><td>64222</td><td>197300</td><td>  733375</td><td>10.46830</td><td>republican</td></tr>\n",
       "\t<tr><td>AL</td><td>36924</td><td> 94800</td><td> 4830620</td><td>25.30991</td><td>republican</td></tr>\n",
       "\t<tr><td>AR</td><td>35833</td><td> 83300</td><td> 2958208</td><td>22.40109</td><td>republican</td></tr>\n",
       "\t<tr><td>AZ</td><td>44748</td><td>128700</td><td> 6641928</td><td>20.58786</td><td>republican</td></tr>\n",
       "\t<tr><td>CA</td><td>53075</td><td>252100</td><td>38421464</td><td>23.38085</td><td>democrat  </td></tr>\n",
       "\t<tr><td>CO</td><td>48098</td><td>198900</td><td> 5278906</td><td>19.50792</td><td>democrat  </td></tr>\n",
       "</tbody>\n",
       "</table>\n"
      ],
      "text/latex": [
       "A tibble: 6 × 6\n",
       "\\begin{tabular}{r|llllll}\n",
       " state & med\\_income & med\\_prop\\_val & population & mean\\_commute\\_minutes & party\\\\\n",
       " <chr> & <dbl> & <dbl> & <dbl> & <dbl> & <chr>\\\\\n",
       "\\hline\n",
       "\t AK & 64222 & 197300 &   733375 & 10.46830 & republican\\\\\n",
       "\t AL & 36924 &  94800 &  4830620 & 25.30991 & republican\\\\\n",
       "\t AR & 35833 &  83300 &  2958208 & 22.40109 & republican\\\\\n",
       "\t AZ & 44748 & 128700 &  6641928 & 20.58786 & republican\\\\\n",
       "\t CA & 53075 & 252100 & 38421464 & 23.38085 & democrat  \\\\\n",
       "\t CO & 48098 & 198900 &  5278906 & 19.50792 & democrat  \\\\\n",
       "\\end{tabular}\n"
      ],
      "text/markdown": [
       "\n",
       "A tibble: 6 × 6\n",
       "\n",
       "| state &lt;chr&gt; | med_income &lt;dbl&gt; | med_prop_val &lt;dbl&gt; | population &lt;dbl&gt; | mean_commute_minutes &lt;dbl&gt; | party &lt;chr&gt; |\n",
       "|---|---|---|---|---|---|\n",
       "| AK | 64222 | 197300 |   733375 | 10.46830 | republican |\n",
       "| AL | 36924 |  94800 |  4830620 | 25.30991 | republican |\n",
       "| AR | 35833 |  83300 |  2958208 | 22.40109 | republican |\n",
       "| AZ | 44748 | 128700 |  6641928 | 20.58786 | republican |\n",
       "| CA | 53075 | 252100 | 38421464 | 23.38085 | democrat   |\n",
       "| CO | 48098 | 198900 |  5278906 | 19.50792 | democrat   |\n",
       "\n"
      ],
      "text/plain": [
       "  state med_income med_prop_val population mean_commute_minutes party     \n",
       "1 AK    64222      197300         733375   10.46830             republican\n",
       "2 AL    36924       94800        4830620   25.30991             republican\n",
       "3 AR    35833       83300        2958208   22.40109             republican\n",
       "4 AZ    44748      128700        6641928   20.58786             republican\n",
       "5 CA    53075      252100       38421464   23.38085             democrat  \n",
       "6 CO    48098      198900        5278906   19.50792             democrat  "
      ]
     },
     "metadata": {},
     "output_type": "display_data"
    }
   ],
   "source": [
    "head(us_data)"
   ]
  },
  {
   "cell_type": "code",
   "execution_count": 35,
   "metadata": {
    "slideshow": {
     "slide_type": "fragment"
    }
   },
   "outputs": [
    {
     "name": "stdout",
     "output_type": "stream",
     "text": [
      "Classes ‘spec_tbl_df’, ‘tbl_df’, ‘tbl’ and 'data.frame':\t52 obs. of  6 variables:\n",
      " $ state               : chr  \"AK\" \"AL\" \"AR\" \"AZ\" ...\n",
      " $ med_income          : num  64222 36924 35833 44748 53075 ...\n",
      " $ med_prop_val        : num  197300 94800 83300 128700 252100 ...\n",
      " $ population          : num  733375 4830620 2958208 6641928 38421464 ...\n",
      " $ mean_commute_minutes: num  10.5 25.3 22.4 20.6 23.4 ...\n",
      " $ party               : chr  \"republican\" \"republican\" \"republican\" \"republican\" ...\n"
     ]
    }
   ],
   "source": [
    "str(us_data)"
   ]
  },
  {
   "cell_type": "markdown",
   "metadata": {
    "slideshow": {
     "slide_type": "slide"
    }
   },
   "source": [
    "#### Subsetting and modifying data frames\n",
    "\n",
    "There are 3 operators that can be used when subsetting data frames: `[`, `$` and `[[`\n",
    "\n",
    "<img src=\"img/subsetting.png\" width=1200>\n",
    "\n",
    "Note that `$` and `[[` remove a level of structure from the data frame (this happens with lists too)."
   ]
  },
  {
   "cell_type": "markdown",
   "metadata": {
    "slideshow": {
     "slide_type": "skip"
    }
   },
   "source": [
    "#### Subsetting and modifying data frames\n",
    "\n",
    "There are 3 operators that can be used when subsetting data frames: `[`, `$` and `[[`\n",
    "\n",
    "| Operator | Example use | What it returns |\n",
    "|----------|-------------|-----------------|\n",
    "| `[`      | `us_data[1:10, 2:4]`     | rows 1-10 for columns 2-4 of the data frame, as a data frame |\n",
    "| `[`      | `us_data[1:10, ]`     | rows 1-10 for all columns of the data frame, as a data frame |\n",
    "| `[`     | `us_data[1]` | the first column of the data frame, as a data frame |\n",
    "| `[[`     | `us_data[[1]]` | the first column of the data frame, as a vector |\n",
    "| `$`      | `us_data$state` | the column the corresponds to the name that follows the `$`, as a vector | \n",
    "\n",
    "Note that `$` and `[[` remove a level of structure from the data frame object (this happens with lists too)."
   ]
  },
  {
   "cell_type": "markdown",
   "metadata": {
    "slideshow": {
     "slide_type": "slide"
    }
   },
   "source": [
    "#### Logical indexing of data frames\n",
    "\n",
    "We can also use logical statements to filter for rows containing certain values, or values above or below a threshold:"
   ]
  },
  {
   "cell_type": "code",
   "execution_count": 36,
   "metadata": {
    "slideshow": {
     "slide_type": "fragment"
    }
   },
   "outputs": [
    {
     "data": {
      "text/html": [
       "<table>\n",
       "<caption>A tibble: 32 × 6</caption>\n",
       "<thead>\n",
       "\t<tr><th scope=col>state</th><th scope=col>med_income</th><th scope=col>med_prop_val</th><th scope=col>population</th><th scope=col>mean_commute_minutes</th><th scope=col>party</th></tr>\n",
       "\t<tr><th scope=col>&lt;chr&gt;</th><th scope=col>&lt;dbl&gt;</th><th scope=col>&lt;dbl&gt;</th><th scope=col>&lt;dbl&gt;</th><th scope=col>&lt;dbl&gt;</th><th scope=col>&lt;chr&gt;</th></tr>\n",
       "</thead>\n",
       "<tbody>\n",
       "\t<tr><td>AK</td><td>64222.0</td><td>197300</td><td>  733375</td><td>10.46830</td><td>republican</td></tr>\n",
       "\t<tr><td>AL</td><td>36924.0</td><td> 94800</td><td> 4830620</td><td>25.30991</td><td>republican</td></tr>\n",
       "\t<tr><td>AR</td><td>35833.0</td><td> 83300</td><td> 2958208</td><td>22.40109</td><td>republican</td></tr>\n",
       "\t<tr><td>AZ</td><td>44748.0</td><td>128700</td><td> 6641928</td><td>20.58786</td><td>republican</td></tr>\n",
       "\t<tr><td>FL</td><td>43355.0</td><td>125600</td><td>19645772</td><td>24.78056</td><td>republican</td></tr>\n",
       "\t<tr><td>GA</td><td>37865.0</td><td>101700</td><td>10006693</td><td>24.54914</td><td>republican</td></tr>\n",
       "\t<tr><td>IA</td><td>49448.0</td><td>102700</td><td> 3093526</td><td>18.35024</td><td>republican</td></tr>\n",
       "\t<tr><td>ID</td><td>43080.5</td><td>143900</td><td> 1616547</td><td>19.85348</td><td>republican</td></tr>\n",
       "\t<tr><td>IN</td><td>47194.0</td><td>111800</td><td> 6568645</td><td>23.51750</td><td>republican</td></tr>\n",
       "\t<tr><td>KS</td><td>46875.0</td><td> 85200</td><td> 2892987</td><td>16.69279</td><td>republican</td></tr>\n",
       "\t<tr><td>KY</td><td>38827.5</td><td> 94050</td><td> 4397353</td><td>24.48608</td><td>republican</td></tr>\n",
       "\t<tr><td>LA</td><td>40757.5</td><td> 98250</td><td> 4625253</td><td>25.91754</td><td>republican</td></tr>\n",
       "\t<tr><td>ME</td><td>45594.0</td><td>150850</td><td> 1329100</td><td>21.98533</td><td>republican</td></tr>\n",
       "\t<tr><td>MI</td><td>42161.0</td><td>103200</td><td> 9900571</td><td>21.92783</td><td>republican</td></tr>\n",
       "\t<tr><td>MO</td><td>40597.0</td><td>101200</td><td> 6045448</td><td>22.39583</td><td>republican</td></tr>\n",
       "\t<tr><td>MS</td><td>33748.5</td><td> 78700</td><td> 2988081</td><td>25.55173</td><td>republican</td></tr>\n",
       "\t<tr><td>MT</td><td>44267.0</td><td>135550</td><td> 1014699</td><td>16.02368</td><td>republican</td></tr>\n",
       "\t<tr><td>NC</td><td>40543.5</td><td>134000</td><td> 9845333</td><td>23.76222</td><td>republican</td></tr>\n",
       "\t<tr><td>ND</td><td>54960.0</td><td>101100</td><td>  721640</td><td>16.33698</td><td>republican</td></tr>\n",
       "\t<tr><td>NE</td><td>49068.0</td><td> 91200</td><td> 1869365</td><td>16.43135</td><td>republican</td></tr>\n",
       "\t<tr><td>OH</td><td>46931.0</td><td>111050</td><td>11575977</td><td>23.52100</td><td>republican</td></tr>\n",
       "\t<tr><td>OK</td><td>43781.0</td><td> 88500</td><td> 3849733</td><td>21.11157</td><td>republican</td></tr>\n",
       "\t<tr><td>PA</td><td>47313.0</td><td>138500</td><td>12779559</td><td>24.08609</td><td>republican</td></tr>\n",
       "\t<tr><td>NA</td><td>     NA</td><td>    NA</td><td>      NA</td><td>      NA</td><td>NA        </td></tr>\n",
       "\t<tr><td>SC</td><td>38769.5</td><td>100450</td><td> 4777576</td><td>25.11677</td><td>republican</td></tr>\n",
       "\t<tr><td>SD</td><td>48415.5</td><td> 88000</td><td>  843190</td><td>15.06729</td><td>republican</td></tr>\n",
       "\t<tr><td>TN</td><td>38576.0</td><td>108600</td><td> 6499615</td><td>25.52855</td><td>republican</td></tr>\n",
       "\t<tr><td>TX</td><td>53207.0</td><td>136000</td><td>26538614</td><td>21.49733</td><td>republican</td></tr>\n",
       "\t<tr><td>UT</td><td>50781.0</td><td>173500</td><td> 2903379</td><td>18.93005</td><td>republican</td></tr>\n",
       "\t<tr><td>WI</td><td>49754.5</td><td>145000</td><td> 5742117</td><td>21.14367</td><td>republican</td></tr>\n",
       "\t<tr><td>WV</td><td>39096.0</td><td> 94600</td><td> 1851420</td><td>27.10972</td><td>republican</td></tr>\n",
       "\t<tr><td>WY</td><td>56569.0</td><td>190000</td><td>  579679</td><td>18.67275</td><td>republican</td></tr>\n",
       "</tbody>\n",
       "</table>\n"
      ],
      "text/latex": [
       "A tibble: 32 × 6\n",
       "\\begin{tabular}{r|llllll}\n",
       " state & med\\_income & med\\_prop\\_val & population & mean\\_commute\\_minutes & party\\\\\n",
       " <chr> & <dbl> & <dbl> & <dbl> & <dbl> & <chr>\\\\\n",
       "\\hline\n",
       "\t AK & 64222.0 & 197300 &   733375 & 10.46830 & republican\\\\\n",
       "\t AL & 36924.0 &  94800 &  4830620 & 25.30991 & republican\\\\\n",
       "\t AR & 35833.0 &  83300 &  2958208 & 22.40109 & republican\\\\\n",
       "\t AZ & 44748.0 & 128700 &  6641928 & 20.58786 & republican\\\\\n",
       "\t FL & 43355.0 & 125600 & 19645772 & 24.78056 & republican\\\\\n",
       "\t GA & 37865.0 & 101700 & 10006693 & 24.54914 & republican\\\\\n",
       "\t IA & 49448.0 & 102700 &  3093526 & 18.35024 & republican\\\\\n",
       "\t ID & 43080.5 & 143900 &  1616547 & 19.85348 & republican\\\\\n",
       "\t IN & 47194.0 & 111800 &  6568645 & 23.51750 & republican\\\\\n",
       "\t KS & 46875.0 &  85200 &  2892987 & 16.69279 & republican\\\\\n",
       "\t KY & 38827.5 &  94050 &  4397353 & 24.48608 & republican\\\\\n",
       "\t LA & 40757.5 &  98250 &  4625253 & 25.91754 & republican\\\\\n",
       "\t ME & 45594.0 & 150850 &  1329100 & 21.98533 & republican\\\\\n",
       "\t MI & 42161.0 & 103200 &  9900571 & 21.92783 & republican\\\\\n",
       "\t MO & 40597.0 & 101200 &  6045448 & 22.39583 & republican\\\\\n",
       "\t MS & 33748.5 &  78700 &  2988081 & 25.55173 & republican\\\\\n",
       "\t MT & 44267.0 & 135550 &  1014699 & 16.02368 & republican\\\\\n",
       "\t NC & 40543.5 & 134000 &  9845333 & 23.76222 & republican\\\\\n",
       "\t ND & 54960.0 & 101100 &   721640 & 16.33698 & republican\\\\\n",
       "\t NE & 49068.0 &  91200 &  1869365 & 16.43135 & republican\\\\\n",
       "\t OH & 46931.0 & 111050 & 11575977 & 23.52100 & republican\\\\\n",
       "\t OK & 43781.0 &  88500 &  3849733 & 21.11157 & republican\\\\\n",
       "\t PA & 47313.0 & 138500 & 12779559 & 24.08609 & republican\\\\\n",
       "\t NA &      NA &     NA &       NA &       NA & NA        \\\\\n",
       "\t SC & 38769.5 & 100450 &  4777576 & 25.11677 & republican\\\\\n",
       "\t SD & 48415.5 &  88000 &   843190 & 15.06729 & republican\\\\\n",
       "\t TN & 38576.0 & 108600 &  6499615 & 25.52855 & republican\\\\\n",
       "\t TX & 53207.0 & 136000 & 26538614 & 21.49733 & republican\\\\\n",
       "\t UT & 50781.0 & 173500 &  2903379 & 18.93005 & republican\\\\\n",
       "\t WI & 49754.5 & 145000 &  5742117 & 21.14367 & republican\\\\\n",
       "\t WV & 39096.0 &  94600 &  1851420 & 27.10972 & republican\\\\\n",
       "\t WY & 56569.0 & 190000 &   579679 & 18.67275 & republican\\\\\n",
       "\\end{tabular}\n"
      ],
      "text/markdown": [
       "\n",
       "A tibble: 32 × 6\n",
       "\n",
       "| state &lt;chr&gt; | med_income &lt;dbl&gt; | med_prop_val &lt;dbl&gt; | population &lt;dbl&gt; | mean_commute_minutes &lt;dbl&gt; | party &lt;chr&gt; |\n",
       "|---|---|---|---|---|---|\n",
       "| AK | 64222.0 | 197300 |   733375 | 10.46830 | republican |\n",
       "| AL | 36924.0 |  94800 |  4830620 | 25.30991 | republican |\n",
       "| AR | 35833.0 |  83300 |  2958208 | 22.40109 | republican |\n",
       "| AZ | 44748.0 | 128700 |  6641928 | 20.58786 | republican |\n",
       "| FL | 43355.0 | 125600 | 19645772 | 24.78056 | republican |\n",
       "| GA | 37865.0 | 101700 | 10006693 | 24.54914 | republican |\n",
       "| IA | 49448.0 | 102700 |  3093526 | 18.35024 | republican |\n",
       "| ID | 43080.5 | 143900 |  1616547 | 19.85348 | republican |\n",
       "| IN | 47194.0 | 111800 |  6568645 | 23.51750 | republican |\n",
       "| KS | 46875.0 |  85200 |  2892987 | 16.69279 | republican |\n",
       "| KY | 38827.5 |  94050 |  4397353 | 24.48608 | republican |\n",
       "| LA | 40757.5 |  98250 |  4625253 | 25.91754 | republican |\n",
       "| ME | 45594.0 | 150850 |  1329100 | 21.98533 | republican |\n",
       "| MI | 42161.0 | 103200 |  9900571 | 21.92783 | republican |\n",
       "| MO | 40597.0 | 101200 |  6045448 | 22.39583 | republican |\n",
       "| MS | 33748.5 |  78700 |  2988081 | 25.55173 | republican |\n",
       "| MT | 44267.0 | 135550 |  1014699 | 16.02368 | republican |\n",
       "| NC | 40543.5 | 134000 |  9845333 | 23.76222 | republican |\n",
       "| ND | 54960.0 | 101100 |   721640 | 16.33698 | republican |\n",
       "| NE | 49068.0 |  91200 |  1869365 | 16.43135 | republican |\n",
       "| OH | 46931.0 | 111050 | 11575977 | 23.52100 | republican |\n",
       "| OK | 43781.0 |  88500 |  3849733 | 21.11157 | republican |\n",
       "| PA | 47313.0 | 138500 | 12779559 | 24.08609 | republican |\n",
       "| NA |      NA |     NA |       NA |       NA | NA         |\n",
       "| SC | 38769.5 | 100450 |  4777576 | 25.11677 | republican |\n",
       "| SD | 48415.5 |  88000 |   843190 | 15.06729 | republican |\n",
       "| TN | 38576.0 | 108600 |  6499615 | 25.52855 | republican |\n",
       "| TX | 53207.0 | 136000 | 26538614 | 21.49733 | republican |\n",
       "| UT | 50781.0 | 173500 |  2903379 | 18.93005 | republican |\n",
       "| WI | 49754.5 | 145000 |  5742117 | 21.14367 | republican |\n",
       "| WV | 39096.0 |  94600 |  1851420 | 27.10972 | republican |\n",
       "| WY | 56569.0 | 190000 |   579679 | 18.67275 | republican |\n",
       "\n"
      ],
      "text/plain": [
       "   state med_income med_prop_val population mean_commute_minutes party     \n",
       "1  AK    64222.0    197300         733375   10.46830             republican\n",
       "2  AL    36924.0     94800        4830620   25.30991             republican\n",
       "3  AR    35833.0     83300        2958208   22.40109             republican\n",
       "4  AZ    44748.0    128700        6641928   20.58786             republican\n",
       "5  FL    43355.0    125600       19645772   24.78056             republican\n",
       "6  GA    37865.0    101700       10006693   24.54914             republican\n",
       "7  IA    49448.0    102700        3093526   18.35024             republican\n",
       "8  ID    43080.5    143900        1616547   19.85348             republican\n",
       "9  IN    47194.0    111800        6568645   23.51750             republican\n",
       "10 KS    46875.0     85200        2892987   16.69279             republican\n",
       "11 KY    38827.5     94050        4397353   24.48608             republican\n",
       "12 LA    40757.5     98250        4625253   25.91754             republican\n",
       "13 ME    45594.0    150850        1329100   21.98533             republican\n",
       "14 MI    42161.0    103200        9900571   21.92783             republican\n",
       "15 MO    40597.0    101200        6045448   22.39583             republican\n",
       "16 MS    33748.5     78700        2988081   25.55173             republican\n",
       "17 MT    44267.0    135550        1014699   16.02368             republican\n",
       "18 NC    40543.5    134000        9845333   23.76222             republican\n",
       "19 ND    54960.0    101100         721640   16.33698             republican\n",
       "20 NE    49068.0     91200        1869365   16.43135             republican\n",
       "21 OH    46931.0    111050       11575977   23.52100             republican\n",
       "22 OK    43781.0     88500        3849733   21.11157             republican\n",
       "23 PA    47313.0    138500       12779559   24.08609             republican\n",
       "24 NA         NA        NA             NA         NA             NA        \n",
       "25 SC    38769.5    100450        4777576   25.11677             republican\n",
       "26 SD    48415.5     88000         843190   15.06729             republican\n",
       "27 TN    38576.0    108600        6499615   25.52855             republican\n",
       "28 TX    53207.0    136000       26538614   21.49733             republican\n",
       "29 UT    50781.0    173500        2903379   18.93005             republican\n",
       "30 WI    49754.5    145000        5742117   21.14367             republican\n",
       "31 WV    39096.0     94600        1851420   27.10972             republican\n",
       "32 WY    56569.0    190000         579679   18.67275             republican"
      ]
     },
     "metadata": {},
     "output_type": "display_data"
    }
   ],
   "source": [
    "us_data[us_data$party == \"republican\", ]"
   ]
  },
  {
   "cell_type": "markdown",
   "metadata": {
    "slideshow": {
     "slide_type": "slide"
    }
   },
   "source": [
    "Another example:"
   ]
  },
  {
   "cell_type": "code",
   "execution_count": 37,
   "metadata": {
    "slideshow": {
     "slide_type": "fragment"
    }
   },
   "outputs": [
    {
     "data": {
      "text/html": [
       "<table>\n",
       "<caption>A tibble: 11 × 6</caption>\n",
       "<thead>\n",
       "\t<tr><th scope=col>state</th><th scope=col>med_income</th><th scope=col>med_prop_val</th><th scope=col>population</th><th scope=col>mean_commute_minutes</th><th scope=col>party</th></tr>\n",
       "\t<tr><th scope=col>&lt;chr&gt;</th><th scope=col>&lt;dbl&gt;</th><th scope=col>&lt;dbl&gt;</th><th scope=col>&lt;dbl&gt;</th><th scope=col>&lt;dbl&gt;</th><th scope=col>&lt;chr&gt;</th></tr>\n",
       "</thead>\n",
       "<tbody>\n",
       "\t<tr><td>AL</td><td>36924.0</td><td> 94800</td><td>4830620</td><td>25.30991</td><td>republican</td></tr>\n",
       "\t<tr><td>DC</td><td>70848.0</td><td>475800</td><td> 647484</td><td>28.25340</td><td>democrat  </td></tr>\n",
       "\t<tr><td>LA</td><td>40757.5</td><td> 98250</td><td>4625253</td><td>25.91754</td><td>republican</td></tr>\n",
       "\t<tr><td>MD</td><td>66745.5</td><td>250950</td><td>5930538</td><td>28.61998</td><td>democrat  </td></tr>\n",
       "\t<tr><td>MS</td><td>33748.5</td><td> 78700</td><td>2988081</td><td>25.55173</td><td>republican</td></tr>\n",
       "\t<tr><td>NJ</td><td>70471.0</td><td>299700</td><td>8904413</td><td>28.80077</td><td>democrat  </td></tr>\n",
       "\t<tr><td>PR</td><td>16851.5</td><td>106750</td><td>3583073</td><td>28.02170</td><td>NA        </td></tr>\n",
       "\t<tr><td>SC</td><td>38769.5</td><td>100450</td><td>4777576</td><td>25.11677</td><td>republican</td></tr>\n",
       "\t<tr><td>TN</td><td>38576.0</td><td>108600</td><td>6499615</td><td>25.52855</td><td>republican</td></tr>\n",
       "\t<tr><td>VA</td><td>47911.0</td><td>176000</td><td>8256630</td><td>26.20629</td><td>democrat  </td></tr>\n",
       "\t<tr><td>WV</td><td>39096.0</td><td> 94600</td><td>1851420</td><td>27.10972</td><td>republican</td></tr>\n",
       "</tbody>\n",
       "</table>\n"
      ],
      "text/latex": [
       "A tibble: 11 × 6\n",
       "\\begin{tabular}{r|llllll}\n",
       " state & med\\_income & med\\_prop\\_val & population & mean\\_commute\\_minutes & party\\\\\n",
       " <chr> & <dbl> & <dbl> & <dbl> & <dbl> & <chr>\\\\\n",
       "\\hline\n",
       "\t AL & 36924.0 &  94800 & 4830620 & 25.30991 & republican\\\\\n",
       "\t DC & 70848.0 & 475800 &  647484 & 28.25340 & democrat  \\\\\n",
       "\t LA & 40757.5 &  98250 & 4625253 & 25.91754 & republican\\\\\n",
       "\t MD & 66745.5 & 250950 & 5930538 & 28.61998 & democrat  \\\\\n",
       "\t MS & 33748.5 &  78700 & 2988081 & 25.55173 & republican\\\\\n",
       "\t NJ & 70471.0 & 299700 & 8904413 & 28.80077 & democrat  \\\\\n",
       "\t PR & 16851.5 & 106750 & 3583073 & 28.02170 & NA        \\\\\n",
       "\t SC & 38769.5 & 100450 & 4777576 & 25.11677 & republican\\\\\n",
       "\t TN & 38576.0 & 108600 & 6499615 & 25.52855 & republican\\\\\n",
       "\t VA & 47911.0 & 176000 & 8256630 & 26.20629 & democrat  \\\\\n",
       "\t WV & 39096.0 &  94600 & 1851420 & 27.10972 & republican\\\\\n",
       "\\end{tabular}\n"
      ],
      "text/markdown": [
       "\n",
       "A tibble: 11 × 6\n",
       "\n",
       "| state &lt;chr&gt; | med_income &lt;dbl&gt; | med_prop_val &lt;dbl&gt; | population &lt;dbl&gt; | mean_commute_minutes &lt;dbl&gt; | party &lt;chr&gt; |\n",
       "|---|---|---|---|---|---|\n",
       "| AL | 36924.0 |  94800 | 4830620 | 25.30991 | republican |\n",
       "| DC | 70848.0 | 475800 |  647484 | 28.25340 | democrat   |\n",
       "| LA | 40757.5 |  98250 | 4625253 | 25.91754 | republican |\n",
       "| MD | 66745.5 | 250950 | 5930538 | 28.61998 | democrat   |\n",
       "| MS | 33748.5 |  78700 | 2988081 | 25.55173 | republican |\n",
       "| NJ | 70471.0 | 299700 | 8904413 | 28.80077 | democrat   |\n",
       "| PR | 16851.5 | 106750 | 3583073 | 28.02170 | NA         |\n",
       "| SC | 38769.5 | 100450 | 4777576 | 25.11677 | republican |\n",
       "| TN | 38576.0 | 108600 | 6499615 | 25.52855 | republican |\n",
       "| VA | 47911.0 | 176000 | 8256630 | 26.20629 | democrat   |\n",
       "| WV | 39096.0 |  94600 | 1851420 | 27.10972 | republican |\n",
       "\n"
      ],
      "text/plain": [
       "   state med_income med_prop_val population mean_commute_minutes party     \n",
       "1  AL    36924.0     94800       4830620    25.30991             republican\n",
       "2  DC    70848.0    475800        647484    28.25340             democrat  \n",
       "3  LA    40757.5     98250       4625253    25.91754             republican\n",
       "4  MD    66745.5    250950       5930538    28.61998             democrat  \n",
       "5  MS    33748.5     78700       2988081    25.55173             republican\n",
       "6  NJ    70471.0    299700       8904413    28.80077             democrat  \n",
       "7  PR    16851.5    106750       3583073    28.02170             NA        \n",
       "8  SC    38769.5    100450       4777576    25.11677             republican\n",
       "9  TN    38576.0    108600       6499615    25.52855             republican\n",
       "10 VA    47911.0    176000       8256630    26.20629             democrat  \n",
       "11 WV    39096.0     94600       1851420    27.10972             republican"
      ]
     },
     "metadata": {},
     "output_type": "display_data"
    }
   ],
   "source": [
    "us_data[us_data$mean_commute_minutes > 25, ]"
   ]
  },
  {
   "cell_type": "markdown",
   "metadata": {
    "slideshow": {
     "slide_type": "slide"
    }
   },
   "source": [
    "#### Modifing data frames\n",
    "\n",
    "Similar to vectors, we can combine the assignment symbol and subsetting to modify data frames.\n",
    "\n",
    "For example, here we create a new column called `mean_commute_hours`:"
   ]
  },
  {
   "cell_type": "code",
   "execution_count": 38,
   "metadata": {},
   "outputs": [
    {
     "data": {
      "text/html": [
       "<table>\n",
       "<caption>A tibble: 6 × 7</caption>\n",
       "<thead>\n",
       "\t<tr><th scope=col>state</th><th scope=col>med_income</th><th scope=col>med_prop_val</th><th scope=col>population</th><th scope=col>mean_commute_minutes</th><th scope=col>party</th><th scope=col>mean_commute_hours</th></tr>\n",
       "\t<tr><th scope=col>&lt;chr&gt;</th><th scope=col>&lt;dbl&gt;</th><th scope=col>&lt;dbl&gt;</th><th scope=col>&lt;dbl&gt;</th><th scope=col>&lt;dbl&gt;</th><th scope=col>&lt;chr&gt;</th><th scope=col>&lt;dbl&gt;</th></tr>\n",
       "</thead>\n",
       "<tbody>\n",
       "\t<tr><td>AK</td><td>64222</td><td>197300</td><td>  733375</td><td>10.46830</td><td>republican</td><td>0.2093660</td></tr>\n",
       "\t<tr><td>AL</td><td>36924</td><td> 94800</td><td> 4830620</td><td>25.30991</td><td>republican</td><td>0.5061981</td></tr>\n",
       "\t<tr><td>AR</td><td>35833</td><td> 83300</td><td> 2958208</td><td>22.40109</td><td>republican</td><td>0.4480218</td></tr>\n",
       "\t<tr><td>AZ</td><td>44748</td><td>128700</td><td> 6641928</td><td>20.58786</td><td>republican</td><td>0.4117572</td></tr>\n",
       "\t<tr><td>CA</td><td>53075</td><td>252100</td><td>38421464</td><td>23.38085</td><td>democrat  </td><td>0.4676170</td></tr>\n",
       "\t<tr><td>CO</td><td>48098</td><td>198900</td><td> 5278906</td><td>19.50792</td><td>democrat  </td><td>0.3901584</td></tr>\n",
       "</tbody>\n",
       "</table>\n"
      ],
      "text/latex": [
       "A tibble: 6 × 7\n",
       "\\begin{tabular}{r|lllllll}\n",
       " state & med\\_income & med\\_prop\\_val & population & mean\\_commute\\_minutes & party & mean\\_commute\\_hours\\\\\n",
       " <chr> & <dbl> & <dbl> & <dbl> & <dbl> & <chr> & <dbl>\\\\\n",
       "\\hline\n",
       "\t AK & 64222 & 197300 &   733375 & 10.46830 & republican & 0.2093660\\\\\n",
       "\t AL & 36924 &  94800 &  4830620 & 25.30991 & republican & 0.5061981\\\\\n",
       "\t AR & 35833 &  83300 &  2958208 & 22.40109 & republican & 0.4480218\\\\\n",
       "\t AZ & 44748 & 128700 &  6641928 & 20.58786 & republican & 0.4117572\\\\\n",
       "\t CA & 53075 & 252100 & 38421464 & 23.38085 & democrat   & 0.4676170\\\\\n",
       "\t CO & 48098 & 198900 &  5278906 & 19.50792 & democrat   & 0.3901584\\\\\n",
       "\\end{tabular}\n"
      ],
      "text/markdown": [
       "\n",
       "A tibble: 6 × 7\n",
       "\n",
       "| state &lt;chr&gt; | med_income &lt;dbl&gt; | med_prop_val &lt;dbl&gt; | population &lt;dbl&gt; | mean_commute_minutes &lt;dbl&gt; | party &lt;chr&gt; | mean_commute_hours &lt;dbl&gt; |\n",
       "|---|---|---|---|---|---|---|\n",
       "| AK | 64222 | 197300 |   733375 | 10.46830 | republican | 0.2093660 |\n",
       "| AL | 36924 |  94800 |  4830620 | 25.30991 | republican | 0.5061981 |\n",
       "| AR | 35833 |  83300 |  2958208 | 22.40109 | republican | 0.4480218 |\n",
       "| AZ | 44748 | 128700 |  6641928 | 20.58786 | republican | 0.4117572 |\n",
       "| CA | 53075 | 252100 | 38421464 | 23.38085 | democrat   | 0.4676170 |\n",
       "| CO | 48098 | 198900 |  5278906 | 19.50792 | democrat   | 0.3901584 |\n",
       "\n"
      ],
      "text/plain": [
       "  state med_income med_prop_val population mean_commute_minutes party     \n",
       "1 AK    64222      197300         733375   10.46830             republican\n",
       "2 AL    36924       94800        4830620   25.30991             republican\n",
       "3 AR    35833       83300        2958208   22.40109             republican\n",
       "4 AZ    44748      128700        6641928   20.58786             republican\n",
       "5 CA    53075      252100       38421464   23.38085             democrat  \n",
       "6 CO    48098      198900        5278906   19.50792             democrat  \n",
       "  mean_commute_hours\n",
       "1 0.2093660         \n",
       "2 0.5061981         \n",
       "3 0.4480218         \n",
       "4 0.4117572         \n",
       "5 0.4676170         \n",
       "6 0.3901584         "
      ]
     },
     "metadata": {},
     "output_type": "display_data"
    }
   ],
   "source": [
    "us_data$mean_commute_hours <- us_data$mean_commute_minutes / 50\n",
    "head(us_data)"
   ]
  },
  {
   "cell_type": "markdown",
   "metadata": {
    "slideshow": {
     "slide_type": "fragment"
    }
   },
   "source": [
    "The same syntax works to overwrite an existing column."
   ]
  },
  {
   "cell_type": "markdown",
   "metadata": {
    "slideshow": {
     "slide_type": "slide"
    }
   },
   "source": [
    "#### What happens when we modify an entire column? or a row?\n",
    "\n",
    "To answer this we need to look at how data frames are represented in R's memory."
   ]
  },
  {
   "cell_type": "markdown",
   "metadata": {
    "slideshow": {
     "slide_type": "slide"
    }
   },
   "source": [
    "#### How R represents data frames:\n",
    "\n",
    "- Remember that data frames are lists of vectors\n",
    "- As such, they don't store the values themselves, they store references to them:\n",
    "\n",
    "```d1 <- data.frame(x = c(1, 5, 6), y = c(2, 4, 3))```\n",
    "\n",
    "<img src=\"https://d33wubrfki0l68.cloudfront.net/80d8995999aa240ff4bc91bb6aba2c7bf72afc24/95ee6/diagrams/name-value/dataframe.png\" width=\"200\">\n",
    "\n",
    "*Source: [Advanced R](https://adv-r.hadley.nz/) by Hadley Wickham*"
   ]
  },
  {
   "cell_type": "markdown",
   "metadata": {
    "slideshow": {
     "slide_type": "slide"
    }
   },
   "source": [
    "#### How R represents data frames:\n",
    "\n",
    "If you modify a column, only that column needs to be modified; the others will still point to their original references:\n",
    "\n",
    "``` d2 <- d1\n",
    "d2[, 2] <- d2[, 2] * 2```\n",
    "\n",
    "<img src=\"https://d33wubrfki0l68.cloudfront.net/c19fd7e31bf34ceff73d0fac6e3ea22b09429e4a/23d8d/diagrams/name-value/d-modify-c.png\" width=\"250\">\n",
    "\n",
    "*Source: [Advanced R](https://adv-r.hadley.nz/) by Hadley Wickham*"
   ]
  },
  {
   "cell_type": "markdown",
   "metadata": {
    "slideshow": {
     "slide_type": "slide"
    }
   },
   "source": [
    "#### How R represents data frames:\n",
    "\n",
    "However, if you modify a row, every column is modified, which means every column must be copied:\n",
    "\n",
    "```d3 <- d1\n",
    "d3[1, ] <- d3[1, ] * 3```\n",
    "\n",
    "<img src=\"https://d33wubrfki0l68.cloudfront.net/36df61f54d1ac62e066fb814cb7ba38ea6047a74/facf8/diagrams/name-value/d-modify-r.png\" width=\"400\">\n",
    "\n",
    "*Source: [Advanced R](https://adv-r.hadley.nz/) by Hadley Wickham*"
   ]
  },
  {
   "cell_type": "markdown",
   "metadata": {
    "slideshow": {
     "slide_type": "slide"
    }
   },
   "source": [
    "#### An exception to copy-on-modify\n",
    "\n",
    "If an object has a single name bound to it, R will modify it in place:\n",
    "\n",
    "```v <- c(1, 2, 3)```\n",
    "\n",
    "<img src=\"https://d33wubrfki0l68.cloudfront.net/496ac87edf04d7e235747c3cf4a4e66deca754f2/3ac04/diagrams/name-value/v-inplace-1.png\" width=\"200\">\n",
    "\n",
    "```v[[3]] <- 4```\n",
    "\n",
    "<img src=\"https://d33wubrfki0l68.cloudfront.net/a6ef7ab337f156cdb2c21816923368383bc2e858/1f8bb/diagrams/name-value/v-inplace-2.png\" width=\"200\">\n",
    "\n",
    "\n",
    "- Hence, modify in place can be a useful optimization for speeding up code.\n",
    "- However, there are some complications that make predicting exactly when R applies this optimisation challenging (see [here](https://adv-r.hadley.nz/names-values.html#modify-in-place) for details)\n",
    "- There is one other time R will do this, we will cover this when we get to environments.\n",
    "\n",
    "*Source: [Advanced R](https://adv-r.hadley.nz/) by Hadley Wickham*"
   ]
  },
  {
   "cell_type": "markdown",
   "metadata": {
    "slideshow": {
     "slide_type": "slide"
    }
   },
   "source": [
    "### Control Flow: `for` loops\n",
    "\n",
    "- For loops in R, work like this: `for (item in vector) perform_action`\n",
    "- When code needs to be split across lines in R, we use the `{` operator to surround it"
   ]
  },
  {
   "cell_type": "markdown",
   "metadata": {
    "slideshow": {
     "slide_type": "fragment"
    }
   },
   "source": [
    "#### Challenge or, are you still awake ;p \n",
    "\n",
    "Rearrange this code to make a working for loop in R. Then discuss with your neighbour when the index is updated."
   ]
  },
  {
   "cell_type": "raw",
   "metadata": {
    "slideshow": {
     "slide_type": "fragment"
    }
   },
   "source": [
    "  i <- i * 2\n",
    "}\n",
    "  print(i) \n",
    "for (i in 1:3) {"
   ]
  },
  {
   "cell_type": "code",
   "execution_count": 39,
   "metadata": {
    "slideshow": {
     "slide_type": "skip"
    }
   },
   "outputs": [
    {
     "name": "stdout",
     "output_type": "stream",
     "text": [
      "[1] 2\n",
      "[1] 4\n",
      "[1] 6\n"
     ]
    }
   ],
   "source": [
    "## Answer\n",
    "\n",
    "for (i in 1:3) {\n",
    "    i <- i * 2\n",
    "    print(i)\n",
    "}\n",
    " "
   ]
  },
  {
   "cell_type": "markdown",
   "metadata": {
    "slideshow": {
     "slide_type": "slide"
    }
   },
   "source": [
    "### Pro-tip for `for` loops in R\n",
    "\n",
    "Beware of this:"
   ]
  },
  {
   "cell_type": "code",
   "execution_count": 40,
   "metadata": {
    "slideshow": {
     "slide_type": "fragment"
    }
   },
   "outputs": [
    {
     "name": "stdout",
     "output_type": "stream",
     "text": [
      "[1] 1\n",
      "[1] 0\n"
     ]
    }
   ],
   "source": [
    "means <- c()\n",
    "for (i in 1:length(means)) {\n",
    "  print(i)\n",
    "}"
   ]
  },
  {
   "cell_type": "markdown",
   "metadata": {
    "slideshow": {
     "slide_type": "slide"
    }
   },
   "source": [
    "That might seem not too bad, but it is if you are trying to actually do something:"
   ]
  },
  {
   "cell_type": "code",
   "execution_count": 41,
   "metadata": {
    "slideshow": {
     "slide_type": "fragment"
    }
   },
   "outputs": [
    {
     "ename": "ERROR",
     "evalue": "Error in rnorm(10, means[[i]]): invalid arguments\n",
     "output_type": "error",
     "traceback": [
      "Error in rnorm(10, means[[i]]): invalid arguments\nTraceback:\n",
      "1. rnorm(10, means[[i]])"
     ]
    }
   ],
   "source": [
    "means <- c()\n",
    "out <- vector(\"list\", length(means))\n",
    "for (i in 1:length(means)) {\n",
    "  out[[i]] <- rnorm(10, means[[i]])\n",
    "}"
   ]
  },
  {
   "cell_type": "markdown",
   "metadata": {
    "slideshow": {
     "slide_type": "fragment"
    }
   },
   "source": [
    "What went wrong here and how can we avoid it?\n"
   ]
  },
  {
   "cell_type": "markdown",
   "metadata": {
    "slideshow": {
     "slide_type": "fragment"
    }
   },
   "source": [
    "This occurs because `:` works with both increasing and decreasing sequences:"
   ]
  },
  {
   "cell_type": "code",
   "execution_count": 42,
   "metadata": {
    "slideshow": {
     "slide_type": "fragment"
    }
   },
   "outputs": [
    {
     "data": {
      "text/html": [
       "<ol class=list-inline>\n",
       "\t<li>1</li>\n",
       "\t<li>0</li>\n",
       "</ol>\n"
      ],
      "text/latex": [
       "\\begin{enumerate*}\n",
       "\\item 1\n",
       "\\item 0\n",
       "\\end{enumerate*}\n"
      ],
      "text/markdown": [
       "1. 1\n",
       "2. 0\n",
       "\n",
       "\n"
      ],
      "text/plain": [
       "[1] 1 0"
      ]
     },
     "metadata": {},
     "output_type": "display_data"
    }
   ],
   "source": [
    "1:length(means)"
   ]
  },
  {
   "cell_type": "markdown",
   "metadata": {
    "slideshow": {
     "slide_type": "notes"
    }
   },
   "source": [
    "*Source: [Advanced R](https://adv-r.hadley.nz/) by Hadley Wickham*"
   ]
  },
  {
   "cell_type": "markdown",
   "metadata": {
    "slideshow": {
     "slide_type": "slide"
    }
   },
   "source": [
    "### Pro-tip for `for` loops in R\n",
    "\n",
    "Use `seq_along(x)` instead. It always returns a value the same length as `x`:"
   ]
  },
  {
   "cell_type": "code",
   "execution_count": 43,
   "metadata": {
    "slideshow": {
     "slide_type": "fragment"
    }
   },
   "outputs": [
    {
     "data": {
      "text/html": [],
      "text/latex": [],
      "text/markdown": [],
      "text/plain": [
       "integer(0)"
      ]
     },
     "metadata": {},
     "output_type": "display_data"
    }
   ],
   "source": [
    "seq_along(means)"
   ]
  },
  {
   "cell_type": "code",
   "execution_count": 44,
   "metadata": {
    "slideshow": {
     "slide_type": "slide"
    }
   },
   "outputs": [],
   "source": [
    "means <- c()\n",
    "for (i in seq_along(means)) {\n",
    "  print(i)\n",
    "}"
   ]
  },
  {
   "cell_type": "code",
   "execution_count": 45,
   "metadata": {
    "slideshow": {
     "slide_type": "slide"
    }
   },
   "outputs": [],
   "source": [
    "means <- c()\n",
    "out <- vector(\"list\", length(means))\n",
    "for (i in seq_along(means)) {\n",
    "  out[[i]] <- rnorm(10, means[[i]])\n",
    "}"
   ]
  },
  {
   "cell_type": "markdown",
   "metadata": {
    "slideshow": {
     "slide_type": "notes"
    }
   },
   "source": [
    "*Source: [Advanced R](https://adv-r.hadley.nz/) by Hadley Wickham*"
   ]
  },
  {
   "cell_type": "markdown",
   "metadata": {
    "slideshow": {
     "slide_type": "slide"
    }
   },
   "source": [
    "### Control Flow: `if`, `if else` and `else` statements \n",
    "\n",
    "The basic form of an if statement in R is as follows:\n",
    "\n",
    "`if (condition) true_action`\n",
    "\n",
    "`if (condition) true_action else false_action`\n",
    "\n",
    "- Again, when code needs to be split across lines in R, we use the `{` operator to surround it to create code blocks"
   ]
  },
  {
   "cell_type": "markdown",
   "metadata": {
    "slideshow": {
     "slide_type": "slide"
    }
   },
   "source": [
    "#### Challenge or, are you still awake ;p \n",
    "\n",
    "Rearrange this code to make a working `if`, `if else` and `else` statement in R."
   ]
  },
  {
   "cell_type": "raw",
   "metadata": {
    "slideshow": {
     "slide_type": "fragment"
    }
   },
   "source": [
    "}\n",
    "} else {\n",
    "    print(\"Under the limit\")\n",
    "threshold <- 95.0\n",
    "    print(\"Over the limit\")\n",
    "measure  <- 93.5\n",
    "} else if (measure < threshold) {\n",
    "if (measure > threshold) {\n",
    "    print(\"Exactly at threshold\")"
   ]
  },
  {
   "cell_type": "code",
   "execution_count": 46,
   "metadata": {
    "slideshow": {
     "slide_type": "skip"
    }
   },
   "outputs": [
    {
     "name": "stdout",
     "output_type": "stream",
     "text": [
      "[1] \"Under the limit\"\n"
     ]
    }
   ],
   "source": [
    "## Answer\n",
    "\n",
    "threshold <- 95.0\n",
    "measure  <- 93.5\n",
    "\n",
    "if (measure > threshold) {\n",
    "    print(\"Over the limit\")\n",
    "} else if (measure < threshold) {\n",
    "    print(\"Under the limit\")\n",
    "} else {\n",
    "    print(\"Exactly at threshold\")\n",
    "}"
   ]
  },
  {
   "cell_type": "markdown",
   "metadata": {
    "slideshow": {
     "slide_type": "slide"
    }
   },
   "source": [
    "### Writing readable R code\n",
    "\n",
    "- WriTing AND reading    (code) TaKes cognitive RESOURCES, & We only hAvE so MUCh! \n",
    "\n",
    "- To help free up cognitive capacity, we will follow the [tidyverse style guide](https://style.tidyverse.org/index.html)"
   ]
  },
  {
   "cell_type": "markdown",
   "metadata": {
    "slideshow": {
     "slide_type": "slide"
    }
   },
   "source": [
    "#### Sample code **not** in tidyverse style\n",
    "\n",
    "Can we spot what's wrong?"
   ]
  },
  {
   "cell_type": "raw",
   "metadata": {
    "slideshow": {
     "slide_type": "fragment"
    }
   },
   "source": [
    "library(tidyverse)\n",
    "us.2015.econ=read_csv( \"data/state_property_data.csv\")\n",
    "us.2016.vote=read_csv( \"data/2016_presidential_election_state_vote.csv\")\n",
    "stateData=left_join (us.2015.econ,us.2016.vote) %>%\n",
    "    filter(party!=\"Not Applicable\") %>%\n",
    "    mutate(meanCommuteHours=mean_commute_minutes/60)\n",
    "ggplot(stateData, aes (x=mean_commute_minutes, y=med_prop_val, color=party)) +\n",
    "    geom_point()+\n",
    "    xlab( \"Income (USD)\" )+\n",
    "    ylab(\"Median property value (USD)\")+\n",
    "    scale_colour_manual (values = c(\"blue\",\"red\"))+\n",
    "    scale_x_continuous (labels = scales::dollar_format())+\n",
    "    scale_y_continuous (labels = scales::dollar_format())"
   ]
  },
  {
   "cell_type": "markdown",
   "metadata": {
    "slideshow": {
     "slide_type": "slide"
    }
   },
   "source": [
    "#### Sample code in tidyverse style"
   ]
  },
  {
   "cell_type": "raw",
   "metadata": {
    "slideshow": {
     "slide_type": "fragment"
    }
   },
   "source": [
    "library(tidyverse, quietly = TRUE)\n",
    "us_2015_econ <- read_csv(\"data/state_property_data.csv\")\n",
    "us_2016_vote <- read_csv(\"data/2016_presidential_election_state_vote.csv\")\n",
    "state_data <- left_join(us_2015_econ, us_2016_vote) %>%\n",
    "    filter(party != \"Not Applicable\") %>%\n",
    "    mutate(mean_commute_hours = mean_commute_minutes / 60)\n",
    "ggplot(state_data, aes(x = med_income, y = med_prop_val, color = party)) +\n",
    "    geom_point() +\n",
    "    xlab(\"Income (USD)\") +\n",
    "    ylab(\"Median property value (USD)\") +\n",
    "    scale_colour_manual(values = c(\"blue\", \"red\")) +\n",
    "    scale_x_continuous(labels = scales::dollar_format()) +\n",
    "    scale_y_continuous(labels = scales::dollar_format())"
   ]
  },
  {
   "cell_type": "markdown",
   "metadata": {
    "slideshow": {
     "slide_type": "slide"
    }
   },
   "source": [
    "### What did we learn today?\n",
    "\n",
    "- \n",
    " \n",
    "- \n",
    "\n",
    "- \n"
   ]
  },
  {
   "cell_type": "markdown",
   "metadata": {
    "slideshow": {
     "slide_type": "slide"
    }
   },
   "source": [
    "## Additional resources:\n",
    "- [RStudio base R cheat sheet](https://www.rstudio.com/wp-content/uploads/2016/10/r-cheat-sheet-3.pdf)\n",
    "- [R Operators cheat sheet](https://cran.r-project.org/doc/contrib/Baggott-refcard-v2.pdf)"
   ]
  },
  {
   "cell_type": "markdown",
   "metadata": {
    "slideshow": {
     "slide_type": "slide"
    }
   },
   "source": [
    "## Attribution:\n",
    "- [Advanced R](https://adv-r.hadley.nz/) by Hadley Wickham\n",
    "- [Why do we use arrow as an assignment operator?](https://colinfay.me/r-assignment/) by Colin Fay"
   ]
  },
  {
   "cell_type": "code",
   "execution_count": null,
   "metadata": {},
   "outputs": [],
   "source": []
  }
 ],
 "metadata": {
  "celltoolbar": "Slideshow",
  "kernelspec": {
   "display_name": "R",
   "language": "R",
   "name": "ir"
  },
  "language_info": {
   "codemirror_mode": "r",
   "file_extension": ".r",
   "mimetype": "text/x-r-source",
   "name": "R",
   "pygments_lexer": "r",
   "version": "4.0.2"
  }
 },
 "nbformat": 4,
 "nbformat_minor": 2
}
