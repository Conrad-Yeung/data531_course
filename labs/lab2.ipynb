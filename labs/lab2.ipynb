{
 "cells": [
  {
   "cell_type": "markdown",
   "metadata": {},
   "source": [
    "# DATA 531 - Lab 2: Practice with Python - Solving problems, docstrings, exception handling, conditions and loops"
   ]
  },
  {
   "cell_type": "markdown",
   "metadata": {},
   "source": [
    "****\n",
    "**Name**: FirstName LastName\n",
    "\n",
    "**Date**: September 15, 2020\n",
    "****"
   ]
  },
  {
   "cell_type": "markdown",
   "metadata": {},
   "source": [
    "## Objectives\n",
    "\n",
    "1. Practice solving problems with programs that use variables, expressions, decisions, and looping/iteration.\n",
    "2. Perform input and output using Python.\n",
    "3. Experience with string manipulation including data splitting, cleaning, and analysis.\n",
    "4. Practice writing docstrings for your functions \n",
    "5. Practice writing assert statements for your functions\n",
    "6. Fluency in reading and writing text (CSV) files including using try-except to handle exceptions.\n",
    "7. Experience analyzing real-world, open data sets.\n",
    "8. Retrieve files from web sites using Python code.\n",
    "9. Using modules `pandas`, `numpy`, and `scipy` for executing a data analysis workflow including data loading, cleaning, and filtering\n",
    "10. Practice using python functions from external modules by reading the docstrings, manual"
   ]
  },
  {
   "cell_type": "code",
   "execution_count": null,
   "metadata": {},
   "outputs": [],
   "source": []
  },
  {
   "cell_type": "markdown",
   "metadata": {},
   "source": [
    "## Question #1 - Calculating Taxes (5 marks)\n",
    "\n",
    "Write a Python function that calculates and prints the tax on a purchased item. The input of this function should be a string, and the pre-tax price of the item.\n",
    "\n",
    "Details:\n",
    "\n",
    "- Add a docstring to this function so users know how to use it. (1 mark)\n",
    "- Calculate the provincial tax (5%) federal tax (7%), and store them as separate variables. (1 mark)\n",
    "- Choose one: A) Add at least two assert statements as tests for your code OR B) Use try/except statements to test for inputs to the function (1 mark)\n",
    "- Print the item amount, the provincial tax, the federal tax, and the total with all taxes included. (2 mark)\n",
    "- **Bonus:** Round tax amounts to the nearest cent and display with exactly two decimal points. (1 mark)"
   ]
  },
  {
   "cell_type": "markdown",
   "metadata": {},
   "source": [
    "## Question #2 - Data Cleaning (15 marks)\n",
    "\n",
    "Create a Python program that cleans data in string format. Data set (copy as string into Python code):\n",
    "\n",
    "    data = \"\"\"5:Joe:35000:1970-08-09\n",
    "    4:Steve:49999:1955-01-02\n",
    "    1:Leah:154000:1999-06-12\n",
    "    3:Sheyanne:255555:1987-05-14\n",
    "    2:Matt:24000:1972-11-03\n",
    "    7:Kyla:1000000:1950-02-01\n",
    "    8:Dave:15000:2000-09-05\n",
    "    \"\"\"\n",
    "    \n",
    "Details:\n",
    "\n",
    "- Use `split()` to separate data into rows (one per line). (1 mark)\n",
    "- Use a for loop to process each line: (1 mark)\n",
    "    - Use split() to divide data into four fields (id, name, salary, birthdate). Output the fields. Hint: Use \"\\t\" to add tab in output. (2 marks)\n",
    "    - Calculate the age using the birthdate and the current date. Print the age. [Reference to convert string to date using strptime](https://docs.python.org/3/library/datetime.html#datetime.datetime.strptime) Note: May also use date.fromisoformat(). (3 marks)\n",
    "- Calculate and print the total number of people, average salary, highest salary, and youngest employee. (4 marks)\n",
    "- Use a for loop to process the data set again: (1 mark)\n",
    "    - Increase the salary by 20% for any employee whose salary < 40000 or has a name that is less than 5 characters long. Print out new and previous salary. (2 marks)    \n",
    "-  **Bonus:** Create a list to store data in after convert from string in first pass so on second loop processing data use the list rather than parsing the string again. (2 marks)\n",
    "-  **Bonus:** Update the salary directly in the list and print out the list. (1 mark)\n",
    "\n",
    "### Sample Output\n",
    "\n",
    "    Id: 5 \tName: Joe \tSalary: 35000 \tBirthdate: 1970-08-09\n",
    "    Age: 49\n",
    "    Id: 4 \tName: Steve \tSalary: 49999 \tBirthdate: 1955-01-02\n",
    "    Age: 64\n",
    "    Id: 1 \tName: Leah \tSalary: 154000 \tBirthdate: 1999-06-12\n",
    "    Age: 20\n",
    "    Id: 3 \tName: Sheyanne \tSalary: 255555 \tBirthdate: 1987-05-14\n",
    "    Age: 32\n",
    "    Id: 2 \tName: Matt \tSalary: 24000 \tBirthdate: 1972-11-03\n",
    "    Age: 46\n",
    "    Id: 7 \tName: Kyla \tSalary: 1000000 \tBirthdate: 1950-02-01\n",
    "    Age: 69\n",
    "    Id: 8 \tName: Dave \tSalary: 15000 \tBirthdate: 2000-09-05\n",
    "    Age: 19\n",
    "\n",
    "    Number of people: 7\n",
    "    Total salary: 1533554 Average salary: 219079.14285714287 Max salary: 1000000\n",
    "    Youngest employee: Dave\n",
    "\n",
    "    Joe Old salary: 35000 New salary: 42000.0\n",
    "    Leah Old salary: 154000 New salary: 184800.0\n",
    "    Matt Old salary: 24000 New salary: 28800.0\n",
    "    Kyla Old salary: 1000000 New salary: 1200000.0\n",
    "    Dave Old salary: 15000 New salary: 18000.0\n",
    "\n",
    "    Bonus:\n",
    "    Joe Old salary: 35000 New salary: 42000.0\n",
    "    Leah Old salary: 154000 New salary: 184800.0\n",
    "    Matt Old salary: 24000 New salary: 28800.0\n",
    "    Kyla Old salary: 1000000 New salary: 1200000.0\n",
    "    Dave Old salary: 15000 New salary: 18000.0\n",
    "    [['5', 'Joe', 42000.0, '1970-08-09'], ['4', 'Steve', 49999, '1955-01-02'], ['1', 'Leah', 184800.0, '1999-06-12'], ['3', 'Sheyanne', 255555, '1987-05-14'], ['2', 'Matt', 28800.0, '1972-11-03'], ['7', 'Kyla', 1200000.0, '1950-02-01'], ['8', 'Dave', 18000.0, '2000-09-05']]"
   ]
  },
  {
   "cell_type": "code",
   "execution_count": 4,
   "metadata": {},
   "outputs": [],
   "source": [
    "### Your answer here"
   ]
  },
  {
   "cell_type": "markdown",
   "metadata": {},
   "source": [
    "## Question #3 - Data Analysis of GDP Data Stored as a CSV File (5 marks)\n",
    "\n",
    "Create a Python program that uses the open data set on GDP from the Canadian government [36100293.csv](data/36100293.csv) ([Original data source](https://open.canada.ca/data/en/dataset/b0c4a8e1-bb44-4ea8-a389-a3a6b87573aa)) to answer some GDP questions and produce a graph. Details: \n",
    "\n",
    "- Ensure the data file [36100293.csv](data/36100293.csv) is in your code directory for input. There is also a metadata file [36100293_MetaData.csv](data/36100293_MetaData.csv) providing info on the data file (not required to use).\n",
    "- Create an empty dictionary that will eventually have the year as a key and the GDP for that year as a value. Create two empty lists to store year and GDP data. (1 marks)\n",
    "- Read the data file using the ``csv`` module and store the GDP for each year in the dictionary and the year and GDP in each list. Code must use try-except to handle any errors. Note that this data set has lots of data besides GDP so you will need to determine which rows store GDP values. (1 mark)\n",
    "- Prompt the user for a year and output the GDP for that year from the dictonary. (1 mark)\n",
    "- Calculate and print the GDP change from the user year and the GDP in the 1970. (1 mark)\n",
    "- Create a line chart using matplotlib showing the GDP from 1961 to 2011. Here is [matplotlib line chart example code](https://matplotlib.org/3.1.1/gallery/lines_bars_and_markers/simple_plot.html) Use the GDP and year lists created previously for the chart data. (1 mark)\n",
    "\n",
    "### Sample Output\n",
    "\n",
    "    Enter a year to lookup GDP: 1965\n",
    "    GDP in 1965 was 17.2 billion dollars which is -20.000000000000004 % different than 1970.\n",
    "\n",
    "![Output line chart](img/q1_gdp_chart.png)"
   ]
  },
  {
   "cell_type": "code",
   "execution_count": 10,
   "metadata": {},
   "outputs": [
    {
     "name": "stdout",
     "output_type": "stream",
     "text": [
      "Value50\n"
     ]
    }
   ],
   "source": [
    "### Helpful hint\n",
    "\"\"\"You can prompt the user for a value like this:\"\"\"\n",
    "\n",
    "value_returned = input('Value')"
   ]
  },
  {
   "cell_type": "code",
   "execution_count": 5,
   "metadata": {},
   "outputs": [],
   "source": [
    "### Your answer here"
   ]
  },
  {
   "cell_type": "code",
   "execution_count": null,
   "metadata": {},
   "outputs": [],
   "source": []
  },
  {
   "cell_type": "code",
   "execution_count": null,
   "metadata": {},
   "outputs": [],
   "source": []
  },
  {
   "cell_type": "code",
   "execution_count": null,
   "metadata": {},
   "outputs": [],
   "source": []
  },
  {
   "cell_type": "code",
   "execution_count": null,
   "metadata": {},
   "outputs": [],
   "source": []
  },
  {
   "cell_type": "code",
   "execution_count": null,
   "metadata": {},
   "outputs": [],
   "source": []
  },
  {
   "cell_type": "code",
   "execution_count": null,
   "metadata": {},
   "outputs": [],
   "source": []
  },
  {
   "cell_type": "code",
   "execution_count": null,
   "metadata": {},
   "outputs": [],
   "source": []
  },
  {
   "cell_type": "code",
   "execution_count": null,
   "metadata": {},
   "outputs": [],
   "source": []
  },
  {
   "cell_type": "markdown",
   "metadata": {},
   "source": [
    "## Optional question (for practice; not for marks)"
   ]
  },
  {
   "cell_type": "markdown",
   "metadata": {},
   "source": [
    "### Question #2 - Data Analysis Pipeline using Python Modules (15 marks)\n",
    "\n",
    "Create a Python program that reads data on Canadian household incomes from open data web site ([Data source](https://open.canada.ca/data/en/dataset/a932e23b-6480-404d-9d15-708dc9cf9b81)) and performs analysis and reporting. Details:\n",
    "\n",
    "- Put a comment at the top of the Python file called ``lab4q2`` with your name. \n",
    "- The data source URL is [https://www150.statcan.gc.ca/n1/tbl/csv/11100032-eng.zip](https://www150.statcan.gc.ca/n1/tbl/csv/11100032-eng.zip). Download zip file using ``urllib.request`` A method called ``urlretrieve`` may be deprecated in the future but is very easy to use for this. (1 mark) [Reference example for urllib](https://stackoverflow.com/questions/7243750/download-file-from-web-in-python-3)\n",
    "- Unzip the file using ``zipfile`` module and ``extractall`` method. (1 mark) [zipfile reference](https://docs.python.org/3/library/zipfile.html) and [zipfile extractall example](https://thispointer.com/python-how-to-unzip-a-file-extract-single-multiple-or-all-files-from-a-zip-archive/) Note: Once you have the data downloaded and unzipped, comment out this code until submission so you do not keep downloading the data!\n",
    "- Use ``pandas`` module and ``read_csv`` method to read CSV file. (1 mark)\n",
    "- Filter the data to include only ``Canada`` data and print the number of rows. (2 marks)\n",
    "- Produce two subsets of the data: \n",
    "    1. All data rows with ``Average total income``.\n",
    "    2. All data rows with ``Average income tax``.\n",
    "- Print out number of rows in each data set and use ``head(4)`` to print out first 4 rows in tax data set (showing only ``Income concept`` and ``VALUE`` columns.) [Pandas reference](https://pandas.pydata.org/pandas-docs/stable/indexing.html) (3 marks)\n",
    "- Perform and graph the output for a linear regression ``(tax, income)`` on the ``VALUE`` column for these two data subsets. (2 marks)\n",
    "- Create a ``matplotlib`` bar chart with bars for ``tax`` and ``income`` and x-axis labels the family categories (``Economic family type``). Note: To resize figure larger use: ``plt.figure(figsize=(6,6))`` (2 marks)\n",
    "- Perform a k-means clustering with 3 clusters and graph results. Use sample code in notes with slight modification. (3 marks)\n",
    "\n",
    "### Sample Output\n",
    "\n",
    "    Number of data rows for Canada: 216\n",
    "    Number of data rows: 18\n",
    "    Number of data rows: 18\n",
    "         Income concept    VALUE\n",
    "    108  Average income tax  12400.0\n",
    "    109  Average income tax  16000.0\n",
    "    110  Average income tax   9700.0\n",
    "    111  Average income tax   9000.0\n",
    "    \n",
    "![Regression chart](img/q2_regression_chart.png)\n",
    "![Bar chart](img/q2_bar_chart.png)\n",
    "![Clustering chart](img/q2_clustering_chart.png)"
   ]
  },
  {
   "cell_type": "code",
   "execution_count": null,
   "metadata": {},
   "outputs": [],
   "source": [
    "\n"
   ]
  }
 ],
 "metadata": {
  "kernelspec": {
   "display_name": "Python 3",
   "language": "python",
   "name": "python3"
  },
  "language_info": {
   "codemirror_mode": {
    "name": "ipython",
    "version": 3
   },
   "file_extension": ".py",
   "mimetype": "text/x-python",
   "name": "python",
   "nbconvert_exporter": "python",
   "pygments_lexer": "ipython3",
   "version": "3.8.3"
  }
 },
 "nbformat": 4,
 "nbformat_minor": 4
}
